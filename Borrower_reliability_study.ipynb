{
 "cells": [
  {
   "cell_type": "markdown",
   "id": "ee82ea6e",
   "metadata": {
    "id": "c81daeeb"
   },
   "source": [
    "# Исследование надежности заемщиков"
   ]
  },
  {
   "cell_type": "markdown",
   "id": "cf71b5fc",
   "metadata": {},
   "source": [
    "***Описание проекта:*** "
   ]
  },
  {
   "cell_type": "markdown",
   "id": "334ef25b",
   "metadata": {},
   "source": [
    "Заказчик — кредитный отдел банка. Нужно разобраться, влияет ли семейное положение и количество детей клиента на факт погашения кредита в срок. Входные данные от банка — статистика о платёжеспособности клиентов."
   ]
  },
  {
   "cell_type": "markdown",
   "id": "2d6a2d23",
   "metadata": {},
   "source": [
    "Результаты исследования будут учтены при построении `модели кредитного скоринга` — специальной системы, которая оценивает способность потенциального заёмщика вернуть кредит банку."
   ]
  },
  {
   "cell_type": "markdown",
   "id": "058e92d7",
   "metadata": {},
   "source": [
    "***Описание данных:***"
   ]
  },
  {
   "cell_type": "markdown",
   "id": "d180b461",
   "metadata": {},
   "source": [
    "- `children` — количество детей в семье\n",
    "- `days_employed` — общий трудовой стаж в днях\n",
    "- `dob_years` — возраст клиента в годах\n",
    "- `education` — уровень образования клиента\n",
    "- `education_id` — идентификатор уровня образования\n",
    "- `family_status` — семейное положение\n",
    "- `family_status_id` — идентификатор семейного положения\n",
    "- `gender` — пол клиента\n",
    "- `income_type` — тип занятости\n",
    "- `debt` — имел ли задолженность по возврату кредитов\n",
    "- `total_income` — ежемесячный доход\n",
    "- `purpose` — цель получения кредита"
   ]
  },
  {
   "cell_type": "markdown",
   "id": "41f02a13",
   "metadata": {},
   "source": [
    "***План работы над проектом:***"
   ]
  },
  {
   "cell_type": "markdown",
   "id": "cf23700e",
   "metadata": {},
   "source": [
    "1. Знакомство с данными;\n",
    "2. Предобработка данных;\n",
    "3. Категоризация данных;\n",
    "4. Исследование данных; \n",
    "5. Общий вывод."
   ]
  },
  {
   "cell_type": "markdown",
   "id": "6c3c0f0c",
   "metadata": {},
   "source": [
    "## Знакомство с данными"
   ]
  },
  {
   "cell_type": "code",
   "execution_count": 1,
   "id": "e5e125ec",
   "metadata": {
    "id": "7bcf75c9"
   },
   "outputs": [],
   "source": [
    "import pandas as pd\n",
    "import seaborn as sns\n",
    "\n",
    "sns.set(rc={'figure.figsize': (15, 20)})"
   ]
  },
  {
   "cell_type": "code",
   "execution_count": 2,
   "id": "5a9aba4e",
   "metadata": {},
   "outputs": [],
   "source": [
    "def start(df):\n",
    "        df.info()\n",
    "        print('\\n',df.describe())\n",
    "        display(df.sample(5))\n",
    "        print('Количество пропусков в таблице:', df.isna().sum().sum(), '\\n')\n",
    "        print(df.isna().sum(), '\\n')\n",
    "        print('Количество дубликатов в таблице:',  df.duplicated().sum())\n",
    "        df.hist(figsize=(15, 20));"
   ]
  },
  {
   "cell_type": "code",
   "execution_count": 3,
   "id": "33c62e5f",
   "metadata": {
    "id": "4d240ee2",
    "scrolled": false
   },
   "outputs": [
    {
     "name": "stdout",
     "output_type": "stream",
     "text": [
      "<class 'pandas.core.frame.DataFrame'>\n",
      "RangeIndex: 21525 entries, 0 to 21524\n",
      "Data columns (total 12 columns):\n",
      " #   Column            Non-Null Count  Dtype  \n",
      "---  ------            --------------  -----  \n",
      " 0   children          21525 non-null  int64  \n",
      " 1   days_employed     19351 non-null  float64\n",
      " 2   dob_years         21525 non-null  int64  \n",
      " 3   education         21525 non-null  object \n",
      " 4   education_id      21525 non-null  int64  \n",
      " 5   family_status     21525 non-null  object \n",
      " 6   family_status_id  21525 non-null  int64  \n",
      " 7   gender            21525 non-null  object \n",
      " 8   income_type       21525 non-null  object \n",
      " 9   debt              21525 non-null  int64  \n",
      " 10  total_income      19351 non-null  float64\n",
      " 11  purpose           21525 non-null  object \n",
      "dtypes: float64(2), int64(5), object(5)\n",
      "memory usage: 2.0+ MB\n",
      "\n",
      "            children  days_employed     dob_years  education_id  \\\n",
      "count  21525.000000   19351.000000  21525.000000  21525.000000   \n",
      "mean       0.538908   63046.497661     43.293380      0.817236   \n",
      "std        1.381587  140827.311974     12.574584      0.548138   \n",
      "min       -1.000000  -18388.949901      0.000000      0.000000   \n",
      "25%        0.000000   -2747.423625     33.000000      1.000000   \n",
      "50%        0.000000   -1203.369529     42.000000      1.000000   \n",
      "75%        1.000000    -291.095954     53.000000      1.000000   \n",
      "max       20.000000  401755.400475     75.000000      4.000000   \n",
      "\n",
      "       family_status_id          debt  total_income  \n",
      "count      21525.000000  21525.000000  1.935100e+04  \n",
      "mean           0.972544      0.080883  1.674223e+05  \n",
      "std            1.420324      0.272661  1.029716e+05  \n",
      "min            0.000000      0.000000  2.066726e+04  \n",
      "25%            0.000000      0.000000  1.030532e+05  \n",
      "50%            0.000000      0.000000  1.450179e+05  \n",
      "75%            1.000000      0.000000  2.034351e+05  \n",
      "max            4.000000      1.000000  2.265604e+06  \n"
     ]
    },
    {
     "data": {
      "text/html": [
       "<div>\n",
       "<style scoped>\n",
       "    .dataframe tbody tr th:only-of-type {\n",
       "        vertical-align: middle;\n",
       "    }\n",
       "\n",
       "    .dataframe tbody tr th {\n",
       "        vertical-align: top;\n",
       "    }\n",
       "\n",
       "    .dataframe thead th {\n",
       "        text-align: right;\n",
       "    }\n",
       "</style>\n",
       "<table border=\"1\" class=\"dataframe\">\n",
       "  <thead>\n",
       "    <tr style=\"text-align: right;\">\n",
       "      <th></th>\n",
       "      <th>children</th>\n",
       "      <th>days_employed</th>\n",
       "      <th>dob_years</th>\n",
       "      <th>education</th>\n",
       "      <th>education_id</th>\n",
       "      <th>family_status</th>\n",
       "      <th>family_status_id</th>\n",
       "      <th>gender</th>\n",
       "      <th>income_type</th>\n",
       "      <th>debt</th>\n",
       "      <th>total_income</th>\n",
       "      <th>purpose</th>\n",
       "    </tr>\n",
       "  </thead>\n",
       "  <tbody>\n",
       "    <tr>\n",
       "      <th>15699</th>\n",
       "      <td>0</td>\n",
       "      <td>-2704.845307</td>\n",
       "      <td>42</td>\n",
       "      <td>среднее</td>\n",
       "      <td>1</td>\n",
       "      <td>женат / замужем</td>\n",
       "      <td>0</td>\n",
       "      <td>M</td>\n",
       "      <td>сотрудник</td>\n",
       "      <td>0</td>\n",
       "      <td>208526.384497</td>\n",
       "      <td>строительство жилой недвижимости</td>\n",
       "    </tr>\n",
       "    <tr>\n",
       "      <th>14742</th>\n",
       "      <td>0</td>\n",
       "      <td>NaN</td>\n",
       "      <td>23</td>\n",
       "      <td>среднее</td>\n",
       "      <td>1</td>\n",
       "      <td>Не женат / не замужем</td>\n",
       "      <td>4</td>\n",
       "      <td>F</td>\n",
       "      <td>сотрудник</td>\n",
       "      <td>0</td>\n",
       "      <td>NaN</td>\n",
       "      <td>строительство недвижимости</td>\n",
       "    </tr>\n",
       "    <tr>\n",
       "      <th>3062</th>\n",
       "      <td>0</td>\n",
       "      <td>NaN</td>\n",
       "      <td>42</td>\n",
       "      <td>среднее</td>\n",
       "      <td>1</td>\n",
       "      <td>женат / замужем</td>\n",
       "      <td>0</td>\n",
       "      <td>M</td>\n",
       "      <td>сотрудник</td>\n",
       "      <td>0</td>\n",
       "      <td>NaN</td>\n",
       "      <td>операции с жильем</td>\n",
       "    </tr>\n",
       "    <tr>\n",
       "      <th>15630</th>\n",
       "      <td>0</td>\n",
       "      <td>-1285.169207</td>\n",
       "      <td>37</td>\n",
       "      <td>среднее</td>\n",
       "      <td>1</td>\n",
       "      <td>женат / замужем</td>\n",
       "      <td>0</td>\n",
       "      <td>F</td>\n",
       "      <td>сотрудник</td>\n",
       "      <td>0</td>\n",
       "      <td>76855.314432</td>\n",
       "      <td>образование</td>\n",
       "    </tr>\n",
       "    <tr>\n",
       "      <th>2910</th>\n",
       "      <td>0</td>\n",
       "      <td>NaN</td>\n",
       "      <td>28</td>\n",
       "      <td>высшее</td>\n",
       "      <td>0</td>\n",
       "      <td>гражданский брак</td>\n",
       "      <td>1</td>\n",
       "      <td>F</td>\n",
       "      <td>компаньон</td>\n",
       "      <td>0</td>\n",
       "      <td>NaN</td>\n",
       "      <td>сыграть свадьбу</td>\n",
       "    </tr>\n",
       "  </tbody>\n",
       "</table>\n",
       "</div>"
      ],
      "text/plain": [
       "       children  days_employed  dob_years education  education_id  \\\n",
       "15699         0   -2704.845307         42   среднее             1   \n",
       "14742         0            NaN         23   среднее             1   \n",
       "3062          0            NaN         42   среднее             1   \n",
       "15630         0   -1285.169207         37   среднее             1   \n",
       "2910          0            NaN         28    высшее             0   \n",
       "\n",
       "               family_status  family_status_id gender income_type  debt  \\\n",
       "15699        женат / замужем                 0      M   сотрудник     0   \n",
       "14742  Не женат / не замужем                 4      F   сотрудник     0   \n",
       "3062         женат / замужем                 0      M   сотрудник     0   \n",
       "15630        женат / замужем                 0      F   сотрудник     0   \n",
       "2910        гражданский брак                 1      F   компаньон     0   \n",
       "\n",
       "        total_income                           purpose  \n",
       "15699  208526.384497  строительство жилой недвижимости  \n",
       "14742            NaN        строительство недвижимости  \n",
       "3062             NaN                 операции с жильем  \n",
       "15630   76855.314432                       образование  \n",
       "2910             NaN                   сыграть свадьбу  "
      ]
     },
     "metadata": {},
     "output_type": "display_data"
    },
    {
     "name": "stdout",
     "output_type": "stream",
     "text": [
      "Количество пропусков в таблице: 4348 \n",
      "\n",
      "children               0\n",
      "days_employed       2174\n",
      "dob_years              0\n",
      "education              0\n",
      "education_id           0\n",
      "family_status          0\n",
      "family_status_id       0\n",
      "gender                 0\n",
      "income_type            0\n",
      "debt                   0\n",
      "total_income        2174\n",
      "purpose                0\n",
      "dtype: int64 \n",
      "\n",
      "Количество дубликатов в таблице: 54\n"
     ]
    },
    {
     "data": {
      "image/png": "[encoded data removed]",
      "text/plain": [
       "<Figure size 1080x1440 with 9 Axes>"
      ]
     },
     "metadata": {},
     "output_type": "display_data"
    }
   ],
   "source": [
    "data = pd.read_csv('data.csv')\n",
    "start(data)"
   ]
  },
  {
   "cell_type": "markdown",
   "id": "370fd28a",
   "metadata": {},
   "source": [
    "***Вывод:*** При первом знакомстве с данными мы увидели что:\n",
    "- в таблице `21525` запись и `12` столбцов;\n",
    "- суммарно в таблице `4348` пропуск, в частности это столбцы `days_employed` и `total_income`;\n",
    "- так же присутсвуют `54` дубликата;\n",
    "- по графикам видно, что в столбце `days_employed` есть выбросы; \n",
    "- это же и касается столбца `total_income`."
   ]
  },
  {
   "cell_type": "markdown",
   "id": "8af758bf",
   "metadata": {},
   "source": [
    "Так же мы видим, что в датасете больше всего семейных пар и болшинство людей из таблицы не имело задолженнностей по возврату кредита. Так же в большинство входят клиенты со средним образованием. Далее в исследовании рассмотрим каждый столбец внимательнее."
   ]
  },
  {
   "cell_type": "markdown",
   "id": "095a4735",
   "metadata": {
    "id": "333ec665"
   },
   "source": [
    "## Предобработка данных"
   ]
  },
  {
   "cell_type": "markdown",
   "id": "b079f438",
   "metadata": {},
   "source": [
    "Для начала избавимся от пропусков. Столбец `total_income` — хранит данные о доходах. Имеет `2174` пропуска. На сумму дохода сильнее всего влияет тип занятости, поэтому заполним пропуски в этом столбце медианным значением по каждому типу из столбца `income_type`. Например, у человека с типом занятости `сотрудник` пропуск в столбце `total_income` должен быть заполнен медианным доходом среди всех записей с тем же типом."
   ]
  },
  {
   "cell_type": "code",
   "execution_count": 4,
   "id": "cd4f4680",
   "metadata": {
    "id": "42006a93",
    "scrolled": false
   },
   "outputs": [
    {
     "data": {
      "text/html": [
       "<div>\n",
       "<style scoped>\n",
       "    .dataframe tbody tr th:only-of-type {\n",
       "        vertical-align: middle;\n",
       "    }\n",
       "\n",
       "    .dataframe tbody tr th {\n",
       "        vertical-align: top;\n",
       "    }\n",
       "\n",
       "    .dataframe thead th {\n",
       "        text-align: right;\n",
       "    }\n",
       "</style>\n",
       "<table border=\"1\" class=\"dataframe\">\n",
       "  <thead>\n",
       "    <tr style=\"text-align: right;\">\n",
       "      <th></th>\n",
       "      <th>children</th>\n",
       "      <th>days_employed</th>\n",
       "      <th>dob_years</th>\n",
       "      <th>education</th>\n",
       "      <th>education_id</th>\n",
       "      <th>family_status</th>\n",
       "      <th>family_status_id</th>\n",
       "      <th>gender</th>\n",
       "      <th>income_type</th>\n",
       "      <th>debt</th>\n",
       "      <th>total_income</th>\n",
       "      <th>purpose</th>\n",
       "    </tr>\n",
       "  </thead>\n",
       "  <tbody>\n",
       "    <tr>\n",
       "      <th>14463</th>\n",
       "      <td>0</td>\n",
       "      <td>-2380.815884</td>\n",
       "      <td>57</td>\n",
       "      <td>среднее</td>\n",
       "      <td>1</td>\n",
       "      <td>женат / замужем</td>\n",
       "      <td>0</td>\n",
       "      <td>M</td>\n",
       "      <td>сотрудник</td>\n",
       "      <td>0</td>\n",
       "      <td>193672.842171</td>\n",
       "      <td>получение высшего образования</td>\n",
       "    </tr>\n",
       "    <tr>\n",
       "      <th>7190</th>\n",
       "      <td>-1</td>\n",
       "      <td>-5928.202068</td>\n",
       "      <td>34</td>\n",
       "      <td>СРЕДНЕЕ</td>\n",
       "      <td>1</td>\n",
       "      <td>женат / замужем</td>\n",
       "      <td>0</td>\n",
       "      <td>M</td>\n",
       "      <td>сотрудник</td>\n",
       "      <td>0</td>\n",
       "      <td>184315.121979</td>\n",
       "      <td>приобретение автомобиля</td>\n",
       "    </tr>\n",
       "    <tr>\n",
       "      <th>13587</th>\n",
       "      <td>2</td>\n",
       "      <td>-1280.574795</td>\n",
       "      <td>42</td>\n",
       "      <td>среднее</td>\n",
       "      <td>1</td>\n",
       "      <td>вдовец / вдова</td>\n",
       "      <td>2</td>\n",
       "      <td>M</td>\n",
       "      <td>сотрудник</td>\n",
       "      <td>0</td>\n",
       "      <td>163081.638750</td>\n",
       "      <td>покупка жилья для семьи</td>\n",
       "    </tr>\n",
       "    <tr>\n",
       "      <th>20323</th>\n",
       "      <td>0</td>\n",
       "      <td>-5619.308087</td>\n",
       "      <td>60</td>\n",
       "      <td>среднее</td>\n",
       "      <td>1</td>\n",
       "      <td>женат / замужем</td>\n",
       "      <td>0</td>\n",
       "      <td>F</td>\n",
       "      <td>сотрудник</td>\n",
       "      <td>0</td>\n",
       "      <td>85336.634322</td>\n",
       "      <td>покупка жилья для семьи</td>\n",
       "    </tr>\n",
       "    <tr>\n",
       "      <th>14597</th>\n",
       "      <td>2</td>\n",
       "      <td>-1388.764492</td>\n",
       "      <td>36</td>\n",
       "      <td>высшее</td>\n",
       "      <td>0</td>\n",
       "      <td>женат / замужем</td>\n",
       "      <td>0</td>\n",
       "      <td>F</td>\n",
       "      <td>сотрудник</td>\n",
       "      <td>0</td>\n",
       "      <td>89307.797746</td>\n",
       "      <td>покупка коммерческой недвижимости</td>\n",
       "    </tr>\n",
       "  </tbody>\n",
       "</table>\n",
       "</div>"
      ],
      "text/plain": [
       "       children  days_employed  dob_years education  education_id  \\\n",
       "14463         0   -2380.815884         57   среднее             1   \n",
       "7190         -1   -5928.202068         34   СРЕДНЕЕ             1   \n",
       "13587         2   -1280.574795         42   среднее             1   \n",
       "20323         0   -5619.308087         60   среднее             1   \n",
       "14597         2   -1388.764492         36    высшее             0   \n",
       "\n",
       "         family_status  family_status_id gender income_type  debt  \\\n",
       "14463  женат / замужем                 0      M   сотрудник     0   \n",
       "7190   женат / замужем                 0      M   сотрудник     0   \n",
       "13587   вдовец / вдова                 2      M   сотрудник     0   \n",
       "20323  женат / замужем                 0      F   сотрудник     0   \n",
       "14597  женат / замужем                 0      F   сотрудник     0   \n",
       "\n",
       "        total_income                            purpose  \n",
       "14463  193672.842171      получение высшего образования  \n",
       "7190   184315.121979            приобретение автомобиля  \n",
       "13587  163081.638750            покупка жилья для семьи  \n",
       "20323   85336.634322            покупка жилья для семьи  \n",
       "14597   89307.797746  покупка коммерческой недвижимости  "
      ]
     },
     "execution_count": 4,
     "metadata": {},
     "output_type": "execute_result"
    }
   ],
   "source": [
    "employed_median = data.groupby('income_type')['total_income'].agg('median')\n",
    "for t in employed_median.index:\n",
    "    data.loc[(data['income_type'] == t) & (data['total_income'].isna()), 'total_income'] = employed_median[t]\n",
    "data.sample(5)"
   ]
  },
  {
   "cell_type": "markdown",
   "id": "3d728216",
   "metadata": {},
   "source": [
    "Далее столбец `days_employed` - общий трудовой стаж в днях. Есть Пропуски (`2174`) и аномальные значение. В частности отрицательные показатели. Для начала приведём их к положительному виду."
   ]
  },
  {
   "cell_type": "code",
   "execution_count": 5,
   "id": "cd563caf",
   "metadata": {
    "id": "f6f055bf"
   },
   "outputs": [
    {
     "data": {
      "text/html": [
       "<div>\n",
       "<style scoped>\n",
       "    .dataframe tbody tr th:only-of-type {\n",
       "        vertical-align: middle;\n",
       "    }\n",
       "\n",
       "    .dataframe tbody tr th {\n",
       "        vertical-align: top;\n",
       "    }\n",
       "\n",
       "    .dataframe thead th {\n",
       "        text-align: right;\n",
       "    }\n",
       "</style>\n",
       "<table border=\"1\" class=\"dataframe\">\n",
       "  <thead>\n",
       "    <tr style=\"text-align: right;\">\n",
       "      <th></th>\n",
       "      <th>children</th>\n",
       "      <th>days_employed</th>\n",
       "      <th>dob_years</th>\n",
       "      <th>education</th>\n",
       "      <th>education_id</th>\n",
       "      <th>family_status</th>\n",
       "      <th>family_status_id</th>\n",
       "      <th>gender</th>\n",
       "      <th>income_type</th>\n",
       "      <th>debt</th>\n",
       "      <th>total_income</th>\n",
       "      <th>purpose</th>\n",
       "    </tr>\n",
       "  </thead>\n",
       "  <tbody>\n",
       "    <tr>\n",
       "      <th>17342</th>\n",
       "      <td>0</td>\n",
       "      <td>NaN</td>\n",
       "      <td>67</td>\n",
       "      <td>среднее</td>\n",
       "      <td>1</td>\n",
       "      <td>женат / замужем</td>\n",
       "      <td>0</td>\n",
       "      <td>F</td>\n",
       "      <td>пенсионер</td>\n",
       "      <td>0</td>\n",
       "      <td>118514.486412</td>\n",
       "      <td>строительство недвижимости</td>\n",
       "    </tr>\n",
       "    <tr>\n",
       "      <th>2467</th>\n",
       "      <td>0</td>\n",
       "      <td>391040.251932</td>\n",
       "      <td>60</td>\n",
       "      <td>Среднее</td>\n",
       "      <td>1</td>\n",
       "      <td>женат / замужем</td>\n",
       "      <td>0</td>\n",
       "      <td>F</td>\n",
       "      <td>пенсионер</td>\n",
       "      <td>0</td>\n",
       "      <td>57702.499264</td>\n",
       "      <td>недвижимость</td>\n",
       "    </tr>\n",
       "    <tr>\n",
       "      <th>18162</th>\n",
       "      <td>0</td>\n",
       "      <td>697.283273</td>\n",
       "      <td>36</td>\n",
       "      <td>Среднее</td>\n",
       "      <td>1</td>\n",
       "      <td>Не женат / не замужем</td>\n",
       "      <td>4</td>\n",
       "      <td>M</td>\n",
       "      <td>сотрудник</td>\n",
       "      <td>0</td>\n",
       "      <td>109447.960014</td>\n",
       "      <td>получение дополнительного образования</td>\n",
       "    </tr>\n",
       "  </tbody>\n",
       "</table>\n",
       "</div>"
      ],
      "text/plain": [
       "       children  days_employed  dob_years education  education_id  \\\n",
       "17342         0            NaN         67   среднее             1   \n",
       "2467          0  391040.251932         60   Среднее             1   \n",
       "18162         0     697.283273         36   Среднее             1   \n",
       "\n",
       "               family_status  family_status_id gender income_type  debt  \\\n",
       "17342        женат / замужем                 0      F   пенсионер     0   \n",
       "2467         женат / замужем                 0      F   пенсионер     0   \n",
       "18162  Не женат / не замужем                 4      M   сотрудник     0   \n",
       "\n",
       "        total_income                                purpose  \n",
       "17342  118514.486412             строительство недвижимости  \n",
       "2467    57702.499264                           недвижимость  \n",
       "18162  109447.960014  получение дополнительного образования  "
      ]
     },
     "execution_count": 5,
     "metadata": {},
     "output_type": "execute_result"
    }
   ],
   "source": [
    "data['days_employed'] = abs(data['days_employed'])\n",
    "data.sample(3)"
   ]
  },
  {
   "cell_type": "markdown",
   "id": "af393328",
   "metadata": {},
   "source": [
    "Далее выведем для  каждого типа занятости медианное значение трудового стажа в днях."
   ]
  },
  {
   "cell_type": "code",
   "execution_count": 6,
   "id": "57dadf47",
   "metadata": {
    "id": "85a5faf6"
   },
   "outputs": [
    {
     "data": {
      "text/plain": [
       "income_type\n",
       "безработный        366413.652744\n",
       "в декрете            3296.759962\n",
       "госслужащий          2689.368353\n",
       "компаньон            1547.382223\n",
       "пенсионер          365213.306266\n",
       "предприниматель       520.848083\n",
       "сотрудник            1574.202821\n",
       "студент               578.751554\n",
       "Name: days_employed, dtype: float64"
      ]
     },
     "execution_count": 6,
     "metadata": {},
     "output_type": "execute_result"
    }
   ],
   "source": [
    "employed_median = data.groupby('income_type')['days_employed'].agg('median')\n",
    "employed_median"
   ]
  },
  {
   "cell_type": "markdown",
   "id": "c977c8b3",
   "metadata": {
    "id": "38d1a030"
   },
   "source": [
    "У двух типов (`безработные и пенсионеры`) получатся аномально большие значения. Исправить такие значения сложно, поэтому оставьте их как есть. Тем более этот столбец не понадобится нам для исследования. Так как основная задача \"*разобраться, влияет ли семейное положение и количество детей клиента на факт погашения кредита в срок.*\""
   ]
  },
  {
   "cell_type": "markdown",
   "id": "10005358",
   "metadata": {},
   "source": [
    "Заполним пропуски в столбце медианными значениями по каждому типу занятости `income_type` как в предыдущем \"проблемном\" столбце."
   ]
  },
  {
   "cell_type": "code",
   "execution_count": 7,
   "id": "81eb5814",
   "metadata": {},
   "outputs": [
    {
     "data": {
      "text/html": [
       "<div>\n",
       "<style scoped>\n",
       "    .dataframe tbody tr th:only-of-type {\n",
       "        vertical-align: middle;\n",
       "    }\n",
       "\n",
       "    .dataframe tbody tr th {\n",
       "        vertical-align: top;\n",
       "    }\n",
       "\n",
       "    .dataframe thead th {\n",
       "        text-align: right;\n",
       "    }\n",
       "</style>\n",
       "<table border=\"1\" class=\"dataframe\">\n",
       "  <thead>\n",
       "    <tr style=\"text-align: right;\">\n",
       "      <th></th>\n",
       "      <th>children</th>\n",
       "      <th>days_employed</th>\n",
       "      <th>dob_years</th>\n",
       "      <th>education</th>\n",
       "      <th>education_id</th>\n",
       "      <th>family_status</th>\n",
       "      <th>family_status_id</th>\n",
       "      <th>gender</th>\n",
       "      <th>income_type</th>\n",
       "      <th>debt</th>\n",
       "      <th>total_income</th>\n",
       "      <th>purpose</th>\n",
       "    </tr>\n",
       "  </thead>\n",
       "  <tbody>\n",
       "    <tr>\n",
       "      <th>1837</th>\n",
       "      <td>1</td>\n",
       "      <td>1127.232661</td>\n",
       "      <td>30</td>\n",
       "      <td>среднее</td>\n",
       "      <td>1</td>\n",
       "      <td>женат / замужем</td>\n",
       "      <td>0</td>\n",
       "      <td>F</td>\n",
       "      <td>сотрудник</td>\n",
       "      <td>0</td>\n",
       "      <td>84324.922903</td>\n",
       "      <td>получение образования</td>\n",
       "    </tr>\n",
       "    <tr>\n",
       "      <th>17741</th>\n",
       "      <td>0</td>\n",
       "      <td>6941.314248</td>\n",
       "      <td>48</td>\n",
       "      <td>высшее</td>\n",
       "      <td>0</td>\n",
       "      <td>в разводе</td>\n",
       "      <td>3</td>\n",
       "      <td>F</td>\n",
       "      <td>госслужащий</td>\n",
       "      <td>0</td>\n",
       "      <td>202468.148563</td>\n",
       "      <td>покупка жилья для сдачи</td>\n",
       "    </tr>\n",
       "    <tr>\n",
       "      <th>9138</th>\n",
       "      <td>0</td>\n",
       "      <td>685.565581</td>\n",
       "      <td>35</td>\n",
       "      <td>среднее</td>\n",
       "      <td>1</td>\n",
       "      <td>Не женат / не замужем</td>\n",
       "      <td>4</td>\n",
       "      <td>F</td>\n",
       "      <td>компаньон</td>\n",
       "      <td>0</td>\n",
       "      <td>126299.644556</td>\n",
       "      <td>строительство жилой недвижимости</td>\n",
       "    </tr>\n",
       "    <tr>\n",
       "      <th>3118</th>\n",
       "      <td>1</td>\n",
       "      <td>355.825666</td>\n",
       "      <td>42</td>\n",
       "      <td>среднее</td>\n",
       "      <td>1</td>\n",
       "      <td>гражданский брак</td>\n",
       "      <td>1</td>\n",
       "      <td>F</td>\n",
       "      <td>сотрудник</td>\n",
       "      <td>0</td>\n",
       "      <td>175336.988110</td>\n",
       "      <td>сделка с автомобилем</td>\n",
       "    </tr>\n",
       "    <tr>\n",
       "      <th>17139</th>\n",
       "      <td>0</td>\n",
       "      <td>395903.924621</td>\n",
       "      <td>55</td>\n",
       "      <td>высшее</td>\n",
       "      <td>0</td>\n",
       "      <td>женат / замужем</td>\n",
       "      <td>0</td>\n",
       "      <td>M</td>\n",
       "      <td>пенсионер</td>\n",
       "      <td>0</td>\n",
       "      <td>242890.011517</td>\n",
       "      <td>строительство жилой недвижимости</td>\n",
       "    </tr>\n",
       "    <tr>\n",
       "      <th>17055</th>\n",
       "      <td>1</td>\n",
       "      <td>945.067110</td>\n",
       "      <td>29</td>\n",
       "      <td>среднее</td>\n",
       "      <td>1</td>\n",
       "      <td>женат / замужем</td>\n",
       "      <td>0</td>\n",
       "      <td>F</td>\n",
       "      <td>сотрудник</td>\n",
       "      <td>0</td>\n",
       "      <td>96489.338884</td>\n",
       "      <td>операции с жильем</td>\n",
       "    </tr>\n",
       "    <tr>\n",
       "      <th>2296</th>\n",
       "      <td>0</td>\n",
       "      <td>1369.869469</td>\n",
       "      <td>48</td>\n",
       "      <td>среднее</td>\n",
       "      <td>1</td>\n",
       "      <td>женат / замужем</td>\n",
       "      <td>0</td>\n",
       "      <td>M</td>\n",
       "      <td>компаньон</td>\n",
       "      <td>0</td>\n",
       "      <td>274506.969942</td>\n",
       "      <td>на покупку автомобиля</td>\n",
       "    </tr>\n",
       "    <tr>\n",
       "      <th>9749</th>\n",
       "      <td>1</td>\n",
       "      <td>1219.774709</td>\n",
       "      <td>40</td>\n",
       "      <td>среднее</td>\n",
       "      <td>1</td>\n",
       "      <td>гражданский брак</td>\n",
       "      <td>1</td>\n",
       "      <td>F</td>\n",
       "      <td>сотрудник</td>\n",
       "      <td>0</td>\n",
       "      <td>63900.354032</td>\n",
       "      <td>сделка с автомобилем</td>\n",
       "    </tr>\n",
       "    <tr>\n",
       "      <th>11983</th>\n",
       "      <td>1</td>\n",
       "      <td>1249.862248</td>\n",
       "      <td>39</td>\n",
       "      <td>СРЕДНЕЕ</td>\n",
       "      <td>1</td>\n",
       "      <td>женат / замужем</td>\n",
       "      <td>0</td>\n",
       "      <td>F</td>\n",
       "      <td>сотрудник</td>\n",
       "      <td>0</td>\n",
       "      <td>54971.155008</td>\n",
       "      <td>дополнительное образование</td>\n",
       "    </tr>\n",
       "    <tr>\n",
       "      <th>1888</th>\n",
       "      <td>1</td>\n",
       "      <td>1409.001754</td>\n",
       "      <td>30</td>\n",
       "      <td>среднее</td>\n",
       "      <td>1</td>\n",
       "      <td>гражданский брак</td>\n",
       "      <td>1</td>\n",
       "      <td>F</td>\n",
       "      <td>сотрудник</td>\n",
       "      <td>0</td>\n",
       "      <td>138501.271006</td>\n",
       "      <td>профильное образование</td>\n",
       "    </tr>\n",
       "  </tbody>\n",
       "</table>\n",
       "</div>"
      ],
      "text/plain": [
       "       children  days_employed  dob_years education  education_id  \\\n",
       "1837          1    1127.232661         30   среднее             1   \n",
       "17741         0    6941.314248         48    высшее             0   \n",
       "9138          0     685.565581         35   среднее             1   \n",
       "3118          1     355.825666         42   среднее             1   \n",
       "17139         0  395903.924621         55    высшее             0   \n",
       "17055         1     945.067110         29   среднее             1   \n",
       "2296          0    1369.869469         48   среднее             1   \n",
       "9749          1    1219.774709         40   среднее             1   \n",
       "11983         1    1249.862248         39   СРЕДНЕЕ             1   \n",
       "1888          1    1409.001754         30   среднее             1   \n",
       "\n",
       "               family_status  family_status_id gender  income_type  debt  \\\n",
       "1837         женат / замужем                 0      F    сотрудник     0   \n",
       "17741              в разводе                 3      F  госслужащий     0   \n",
       "9138   Не женат / не замужем                 4      F    компаньон     0   \n",
       "3118        гражданский брак                 1      F    сотрудник     0   \n",
       "17139        женат / замужем                 0      M    пенсионер     0   \n",
       "17055        женат / замужем                 0      F    сотрудник     0   \n",
       "2296         женат / замужем                 0      M    компаньон     0   \n",
       "9749        гражданский брак                 1      F    сотрудник     0   \n",
       "11983        женат / замужем                 0      F    сотрудник     0   \n",
       "1888        гражданский брак                 1      F    сотрудник     0   \n",
       "\n",
       "        total_income                           purpose  \n",
       "1837    84324.922903             получение образования  \n",
       "17741  202468.148563           покупка жилья для сдачи  \n",
       "9138   126299.644556  строительство жилой недвижимости  \n",
       "3118   175336.988110              сделка с автомобилем  \n",
       "17139  242890.011517  строительство жилой недвижимости  \n",
       "17055   96489.338884                 операции с жильем  \n",
       "2296   274506.969942             на покупку автомобиля  \n",
       "9749    63900.354032              сделка с автомобилем  \n",
       "11983   54971.155008        дополнительное образование  \n",
       "1888   138501.271006            профильное образование  "
      ]
     },
     "execution_count": 7,
     "metadata": {},
     "output_type": "execute_result"
    }
   ],
   "source": [
    "data.loc[data['days_employed'].isna(), 'days_employed'] = data.groupby('income_type')['days_employed'].transform('median')\n",
    "data.sample(10)"
   ]
  },
  {
   "cell_type": "markdown",
   "id": "13b04e84",
   "metadata": {
    "id": "d8a9f147",
    "tags": [
     "start_task"
    ]
   },
   "source": [
    "Отлично! Посмотрим столбец `children`."
   ]
  },
  {
   "cell_type": "code",
   "execution_count": 8,
   "id": "6c9d662e",
   "metadata": {
    "id": "ef5056eb"
   },
   "outputs": [
    {
     "data": {
      "text/plain": [
       "array([ 1,  0,  3,  2, -1,  4, 20,  5], dtype=int64)"
      ]
     },
     "execution_count": 8,
     "metadata": {},
     "output_type": "execute_result"
    }
   ],
   "source": [
    "data['children'].unique()"
   ]
  },
  {
   "cell_type": "markdown",
   "id": "30211bb7",
   "metadata": {
    "id": "40b9ebf2",
    "tags": [
     "start_task"
    ]
   },
   "source": [
    "В столбце есть два аномальных значения (отрицательное и очень большое). Удалим строки, в которых встречаются такие значения из датафрейма."
   ]
  },
  {
   "cell_type": "code",
   "execution_count": 9,
   "id": "70641c82",
   "metadata": {
    "id": "3ff9801d",
    "scrolled": true
   },
   "outputs": [
    {
     "data": {
      "text/plain": [
       "array([1, 0, 3, 2, 4, 5], dtype=int64)"
      ]
     },
     "execution_count": 9,
     "metadata": {},
     "output_type": "execute_result"
    }
   ],
   "source": [
    "data = data.loc[(data['children'] != -1) & (data['children'] != 20)]\n",
    "data['children'].unique()"
   ]
  },
  {
   "cell_type": "markdown",
   "id": "8f910914",
   "metadata": {
    "id": "2753f40d",
    "tags": [
     "start_task"
    ]
   },
   "source": [
    "Убедимся, что заполнили все пропуски."
   ]
  },
  {
   "cell_type": "code",
   "execution_count": 10,
   "id": "9d6bfc8d",
   "metadata": {
    "id": "55f78bc2"
   },
   "outputs": [
    {
     "name": "stdout",
     "output_type": "stream",
     "text": [
      "children            0\n",
      "days_employed       0\n",
      "dob_years           0\n",
      "education           0\n",
      "education_id        0\n",
      "family_status       0\n",
      "family_status_id    0\n",
      "gender              0\n",
      "income_type         0\n",
      "debt                0\n",
      "total_income        0\n",
      "purpose             0\n",
      "dtype: int64\n"
     ]
    }
   ],
   "source": [
    "print(data.isna().sum())"
   ]
  },
  {
   "cell_type": "markdown",
   "id": "252a23d4",
   "metadata": {
    "id": "42d19d24",
    "tags": [
     "start_task"
    ]
   },
   "source": [
    "Хорошо. Так же мы заметили, что не все типы данных правильно обозначены в таблице. Заменим вещественный тип данных в столбце `total_income` на целочисленный с помощью метода `astype()`."
   ]
  },
  {
   "cell_type": "code",
   "execution_count": 11,
   "id": "aef9a9eb",
   "metadata": {
    "id": "920b65ad",
    "scrolled": true
   },
   "outputs": [
    {
     "data": {
      "text/plain": [
       "dtype('int32')"
      ]
     },
     "execution_count": 11,
     "metadata": {},
     "output_type": "execute_result"
    }
   ],
   "source": [
    "data['total_income'] = data['total_income'].astype('int')\n",
    "data['total_income'].dtype"
   ]
  },
  {
   "cell_type": "markdown",
   "id": "727b1849",
   "metadata": {},
   "source": [
    "Отлично! Далее столбец `education`."
   ]
  },
  {
   "cell_type": "code",
   "execution_count": 12,
   "id": "4e92ad9b",
   "metadata": {},
   "outputs": [
    {
     "data": {
      "text/plain": [
       "array(['высшее', 'среднее', 'Среднее', 'СРЕДНЕЕ', 'ВЫСШЕЕ',\n",
       "       'неоконченное высшее', 'начальное', 'Высшее',\n",
       "       'НЕОКОНЧЕННОЕ ВЫСШЕЕ', 'Неоконченное высшее', 'НАЧАЛЬНОЕ',\n",
       "       'Начальное', 'Ученая степень', 'УЧЕНАЯ СТЕПЕНЬ', 'ученая степень'],\n",
       "      dtype=object)"
      ]
     },
     "execution_count": 12,
     "metadata": {},
     "output_type": "execute_result"
    }
   ],
   "source": [
    "data['education'].unique()"
   ]
  },
  {
   "cell_type": "markdown",
   "id": "5a022abd",
   "metadata": {
    "tags": [
     "start_task"
    ]
   },
   "source": [
    "Обработаем неявные дубликаты. В этом столбце есть одни и те же значения, но записанные по-разному: с использованием заглавных и строчных букв. Приведум их к нижнему регистру."
   ]
  },
  {
   "cell_type": "code",
   "execution_count": 13,
   "id": "862bddc0",
   "metadata": {},
   "outputs": [
    {
     "data": {
      "text/plain": [
       "среднее                15136\n",
       "высшее                  5237\n",
       "неоконченное высшее      741\n",
       "начальное                282\n",
       "ученая степень             6\n",
       "Name: education, dtype: int64"
      ]
     },
     "execution_count": 13,
     "metadata": {},
     "output_type": "execute_result"
    }
   ],
   "source": [
    "data['education'] = data['education'].str.lower()\n",
    "data['education'].value_counts()"
   ]
  },
  {
   "cell_type": "markdown",
   "id": "d5eeae94",
   "metadata": {
    "id": "dc587695",
    "tags": [
     "start_task"
    ]
   },
   "source": [
    "Далее проверим, сколько на текущий момент в табцице дубликатов."
   ]
  },
  {
   "cell_type": "code",
   "execution_count": 14,
   "id": "915838b6",
   "metadata": {
    "id": "3ee445e4"
   },
   "outputs": [
    {
     "name": "stdout",
     "output_type": "stream",
     "text": [
      "71\n"
     ]
    }
   ],
   "source": [
    "print(data.duplicated().sum())"
   ]
  },
  {
   "cell_type": "markdown",
   "id": "7d63c9c3",
   "metadata": {},
   "source": [
    "Их стало больше, чем в начальных данных. Избавимся от них."
   ]
  },
  {
   "cell_type": "code",
   "execution_count": 15,
   "id": "8641467c",
   "metadata": {
    "id": "8575fe05"
   },
   "outputs": [
    {
     "name": "stdout",
     "output_type": "stream",
     "text": [
      "0\n"
     ]
    }
   ],
   "source": [
    "data = data.drop_duplicates().reset_index(drop=True)\n",
    "print(data.duplicated().sum())"
   ]
  },
  {
   "cell_type": "markdown",
   "id": "1ac2e259",
   "metadata": {},
   "source": [
    "***Вывод:*** В процессе предобработки данных мы:\n",
    "- избавились от пропусков в столбце `total_income` (данные о доходах). Заполнили пропуски в этом столбце медианным значением по каждому типу занятости из столбца `income_type`;\n",
    "- так же в столбце `days_employed` (общий трудовой стаж в днях) избавились от пропусков и аномалий, по примеру столбца с доходом;\n",
    "-  удалили из таблицы строки с аномальным значением из столбца `children`;\n",
    "- заменили вещественный тип данных в столбце `total_income` на целочисленный с помощью метода `astype()`; \n",
    "- обработали неявные дубликаты в `education` и удалили из таблице полные дубликаты в размере `71` штуки."
   ]
  },
  {
   "cell_type": "markdown",
   "id": "362c9e08",
   "metadata": {
    "id": "9904cf55"
   },
   "source": [
    "## Категоризация данных"
   ]
  },
  {
   "cell_type": "markdown",
   "id": "3caccdd2",
   "metadata": {
    "id": "72fcc8a2",
    "tags": [
     "start_task"
    ]
   },
   "source": [
    "На основании диапазонов, указанных ниже, создадим в датафрейме `data` столбец `total_income_category` с категориями:\n",
    "\n",
    "- 0–30000 — `'E'`;\n",
    "- 30001–50000 — `'D'`;\n",
    "- 50001–200000 — `'C'`;\n",
    "- 200001–1000000 — `'B'`;\n",
    "- 1000001 и выше — `'A'`.\n",
    "\n",
    "\n",
    "Например, кредитополучателю с доходом 25000 нужно назначить категорию `'E'`, а клиенту, получающему 235000, — `'B'`. Напишем функцию с именем `categorize_income()` и применим метод `apply()` к столбцу."
   ]
  },
  {
   "cell_type": "code",
   "execution_count": 16,
   "id": "56eb189a",
   "metadata": {
    "id": "e1771346"
   },
   "outputs": [],
   "source": [
    "def categorize_income(income):\n",
    "    if 0 <= income <= 30000:\n",
    "        return 'E'\n",
    "    if 30001 <= income <= 50000:\n",
    "        return 'D'\n",
    "    if 50001 <= income <= 200000:\n",
    "        return 'C'\n",
    "    if 200001 <= income <= 1000000:\n",
    "        return 'B'\n",
    "    if 1000001 <= income:\n",
    "        return 'A'"
   ]
  },
  {
   "cell_type": "code",
   "execution_count": 17,
   "id": "12347e2c",
   "metadata": {
    "id": "d5f3586d"
   },
   "outputs": [
    {
     "data": {
      "text/html": [
       "<div>\n",
       "<style scoped>\n",
       "    .dataframe tbody tr th:only-of-type {\n",
       "        vertical-align: middle;\n",
       "    }\n",
       "\n",
       "    .dataframe tbody tr th {\n",
       "        vertical-align: top;\n",
       "    }\n",
       "\n",
       "    .dataframe thead th {\n",
       "        text-align: right;\n",
       "    }\n",
       "</style>\n",
       "<table border=\"1\" class=\"dataframe\">\n",
       "  <thead>\n",
       "    <tr style=\"text-align: right;\">\n",
       "      <th></th>\n",
       "      <th>children</th>\n",
       "      <th>days_employed</th>\n",
       "      <th>dob_years</th>\n",
       "      <th>education</th>\n",
       "      <th>education_id</th>\n",
       "      <th>family_status</th>\n",
       "      <th>family_status_id</th>\n",
       "      <th>gender</th>\n",
       "      <th>income_type</th>\n",
       "      <th>debt</th>\n",
       "      <th>total_income</th>\n",
       "      <th>purpose</th>\n",
       "      <th>total_income_category</th>\n",
       "    </tr>\n",
       "  </thead>\n",
       "  <tbody>\n",
       "    <tr>\n",
       "      <th>15404</th>\n",
       "      <td>2</td>\n",
       "      <td>4909.091920</td>\n",
       "      <td>38</td>\n",
       "      <td>среднее</td>\n",
       "      <td>1</td>\n",
       "      <td>женат / замужем</td>\n",
       "      <td>0</td>\n",
       "      <td>M</td>\n",
       "      <td>сотрудник</td>\n",
       "      <td>0</td>\n",
       "      <td>181601</td>\n",
       "      <td>ремонт жилью</td>\n",
       "      <td>C</td>\n",
       "    </tr>\n",
       "    <tr>\n",
       "      <th>10067</th>\n",
       "      <td>1</td>\n",
       "      <td>4082.603443</td>\n",
       "      <td>37</td>\n",
       "      <td>среднее</td>\n",
       "      <td>1</td>\n",
       "      <td>женат / замужем</td>\n",
       "      <td>0</td>\n",
       "      <td>F</td>\n",
       "      <td>компаньон</td>\n",
       "      <td>0</td>\n",
       "      <td>227568</td>\n",
       "      <td>покупка жилья</td>\n",
       "      <td>B</td>\n",
       "    </tr>\n",
       "    <tr>\n",
       "      <th>18148</th>\n",
       "      <td>0</td>\n",
       "      <td>339443.230607</td>\n",
       "      <td>52</td>\n",
       "      <td>среднее</td>\n",
       "      <td>1</td>\n",
       "      <td>гражданский брак</td>\n",
       "      <td>1</td>\n",
       "      <td>F</td>\n",
       "      <td>пенсионер</td>\n",
       "      <td>0</td>\n",
       "      <td>51436</td>\n",
       "      <td>свадьба</td>\n",
       "      <td>C</td>\n",
       "    </tr>\n",
       "    <tr>\n",
       "      <th>17383</th>\n",
       "      <td>2</td>\n",
       "      <td>1491.974445</td>\n",
       "      <td>32</td>\n",
       "      <td>среднее</td>\n",
       "      <td>1</td>\n",
       "      <td>женат / замужем</td>\n",
       "      <td>0</td>\n",
       "      <td>F</td>\n",
       "      <td>сотрудник</td>\n",
       "      <td>0</td>\n",
       "      <td>103093</td>\n",
       "      <td>покупка своего жилья</td>\n",
       "      <td>C</td>\n",
       "    </tr>\n",
       "    <tr>\n",
       "      <th>14330</th>\n",
       "      <td>0</td>\n",
       "      <td>365213.306266</td>\n",
       "      <td>58</td>\n",
       "      <td>среднее</td>\n",
       "      <td>1</td>\n",
       "      <td>гражданский брак</td>\n",
       "      <td>1</td>\n",
       "      <td>F</td>\n",
       "      <td>пенсионер</td>\n",
       "      <td>0</td>\n",
       "      <td>118514</td>\n",
       "      <td>на проведение свадьбы</td>\n",
       "      <td>C</td>\n",
       "    </tr>\n",
       "  </tbody>\n",
       "</table>\n",
       "</div>"
      ],
      "text/plain": [
       "       children  days_employed  dob_years education  education_id  \\\n",
       "15404         2    4909.091920         38   среднее             1   \n",
       "10067         1    4082.603443         37   среднее             1   \n",
       "18148         0  339443.230607         52   среднее             1   \n",
       "17383         2    1491.974445         32   среднее             1   \n",
       "14330         0  365213.306266         58   среднее             1   \n",
       "\n",
       "          family_status  family_status_id gender income_type  debt  \\\n",
       "15404   женат / замужем                 0      M   сотрудник     0   \n",
       "10067   женат / замужем                 0      F   компаньон     0   \n",
       "18148  гражданский брак                 1      F   пенсионер     0   \n",
       "17383   женат / замужем                 0      F   сотрудник     0   \n",
       "14330  гражданский брак                 1      F   пенсионер     0   \n",
       "\n",
       "       total_income                purpose total_income_category  \n",
       "15404        181601           ремонт жилью                     C  \n",
       "10067        227568          покупка жилья                     B  \n",
       "18148         51436                свадьба                     C  \n",
       "17383        103093   покупка своего жилья                     C  \n",
       "14330        118514  на проведение свадьбы                     C  "
      ]
     },
     "execution_count": 17,
     "metadata": {},
     "output_type": "execute_result"
    }
   ],
   "source": [
    "data['total_income_category'] = data['total_income'].apply(categorize_income)\n",
    "data.sample(5)"
   ]
  },
  {
   "cell_type": "markdown",
   "id": "56d1e086",
   "metadata": {
    "id": "dde49b5c",
    "tags": [
     "start_task"
    ]
   },
   "source": [
    "Отлично! Выведем на экран перечень уникальных целей взятия кредита из столбца `purpose`."
   ]
  },
  {
   "cell_type": "code",
   "execution_count": 18,
   "id": "a5c6dff2",
   "metadata": {
    "id": "f67ce9b3"
   },
   "outputs": [
    {
     "data": {
      "text/plain": [
       "array(['покупка жилья', 'приобретение автомобиля',\n",
       "       'дополнительное образование', 'сыграть свадьбу',\n",
       "       'операции с жильем', 'образование', 'на проведение свадьбы',\n",
       "       'покупка жилья для семьи', 'покупка недвижимости',\n",
       "       'покупка коммерческой недвижимости', 'покупка жилой недвижимости',\n",
       "       'строительство собственной недвижимости', 'недвижимость',\n",
       "       'строительство недвижимости', 'на покупку подержанного автомобиля',\n",
       "       'на покупку своего автомобиля',\n",
       "       'операции с коммерческой недвижимостью',\n",
       "       'строительство жилой недвижимости', 'жилье',\n",
       "       'операции со своей недвижимостью', 'автомобили',\n",
       "       'заняться образованием', 'сделка с подержанным автомобилем',\n",
       "       'получение образования', 'автомобиль', 'свадьба',\n",
       "       'получение дополнительного образования', 'покупка своего жилья',\n",
       "       'операции с недвижимостью', 'получение высшего образования',\n",
       "       'свой автомобиль', 'сделка с автомобилем',\n",
       "       'профильное образование', 'высшее образование',\n",
       "       'покупка жилья для сдачи', 'на покупку автомобиля', 'ремонт жилью',\n",
       "       'заняться высшим образованием'], dtype=object)"
      ]
     },
     "execution_count": 18,
     "metadata": {},
     "output_type": "execute_result"
    }
   ],
   "source": [
    "data['purpose'].unique()"
   ]
  },
  {
   "cell_type": "markdown",
   "id": "678baf9d",
   "metadata": {
    "id": "85d0aef0",
    "tags": [
     "start_task"
    ]
   },
   "source": [
    "Создадим функцию, которая на основании этих данных сформирует новый столбец `purpose_category`, в который войдут следующие категории:\n",
    "\n",
    "- `'операции с автомобилем'`,\n",
    "- `'операции с недвижимостью'`,\n",
    "- `'проведение свадьбы'`,\n",
    "- `'получение образования'`.\n",
    "\n",
    "Например, если в столбце `purpose` находится подстрока `'на покупку автомобиля'`, то в столбце `purpose_category` появиться строка `'операции с автомобилем'`.\n",
    "\n",
    "Напишем собственную функцию с именем `categorize_purpose()` и применим метод `apply()` к столбцу."
   ]
  },
  {
   "cell_type": "code",
   "execution_count": 19,
   "id": "32159abb",
   "metadata": {
    "id": "e149fab4"
   },
   "outputs": [],
   "source": [
    "def categorize_purpose(purpose_value):\n",
    "    if 'авто' in purpose_value:\n",
    "        return 'операции с автомобилем'\n",
    "    if 'жил' in purpose_value or 'нед' in purpose_value:\n",
    "        return 'операции с недвижимостью'\n",
    "    if 'свад' in purpose_value:\n",
    "        return 'проведение свадьбы'\n",
    "    if 'обра' in purpose_value:\n",
    "        return 'получение образования'"
   ]
  },
  {
   "cell_type": "code",
   "execution_count": 20,
   "id": "dc7ce616",
   "metadata": {
    "id": "bf36e69b",
    "scrolled": true
   },
   "outputs": [
    {
     "data": {
      "text/html": [
       "<div>\n",
       "<style scoped>\n",
       "    .dataframe tbody tr th:only-of-type {\n",
       "        vertical-align: middle;\n",
       "    }\n",
       "\n",
       "    .dataframe tbody tr th {\n",
       "        vertical-align: top;\n",
       "    }\n",
       "\n",
       "    .dataframe thead th {\n",
       "        text-align: right;\n",
       "    }\n",
       "</style>\n",
       "<table border=\"1\" class=\"dataframe\">\n",
       "  <thead>\n",
       "    <tr style=\"text-align: right;\">\n",
       "      <th></th>\n",
       "      <th>children</th>\n",
       "      <th>days_employed</th>\n",
       "      <th>dob_years</th>\n",
       "      <th>education</th>\n",
       "      <th>education_id</th>\n",
       "      <th>family_status</th>\n",
       "      <th>family_status_id</th>\n",
       "      <th>gender</th>\n",
       "      <th>income_type</th>\n",
       "      <th>debt</th>\n",
       "      <th>total_income</th>\n",
       "      <th>purpose</th>\n",
       "      <th>total_income_category</th>\n",
       "      <th>purpose_category</th>\n",
       "    </tr>\n",
       "  </thead>\n",
       "  <tbody>\n",
       "    <tr>\n",
       "      <th>10617</th>\n",
       "      <td>1</td>\n",
       "      <td>4474.451985</td>\n",
       "      <td>38</td>\n",
       "      <td>среднее</td>\n",
       "      <td>1</td>\n",
       "      <td>женат / замужем</td>\n",
       "      <td>0</td>\n",
       "      <td>M</td>\n",
       "      <td>сотрудник</td>\n",
       "      <td>0</td>\n",
       "      <td>199135</td>\n",
       "      <td>покупка жилья для семьи</td>\n",
       "      <td>C</td>\n",
       "      <td>операции с недвижимостью</td>\n",
       "    </tr>\n",
       "    <tr>\n",
       "      <th>20629</th>\n",
       "      <td>0</td>\n",
       "      <td>2767.372623</td>\n",
       "      <td>53</td>\n",
       "      <td>среднее</td>\n",
       "      <td>1</td>\n",
       "      <td>женат / замужем</td>\n",
       "      <td>0</td>\n",
       "      <td>F</td>\n",
       "      <td>сотрудник</td>\n",
       "      <td>0</td>\n",
       "      <td>59859</td>\n",
       "      <td>получение высшего образования</td>\n",
       "      <td>C</td>\n",
       "      <td>получение образования</td>\n",
       "    </tr>\n",
       "    <tr>\n",
       "      <th>13257</th>\n",
       "      <td>0</td>\n",
       "      <td>3877.599102</td>\n",
       "      <td>50</td>\n",
       "      <td>среднее</td>\n",
       "      <td>1</td>\n",
       "      <td>женат / замужем</td>\n",
       "      <td>0</td>\n",
       "      <td>F</td>\n",
       "      <td>сотрудник</td>\n",
       "      <td>0</td>\n",
       "      <td>169343</td>\n",
       "      <td>жилье</td>\n",
       "      <td>C</td>\n",
       "      <td>операции с недвижимостью</td>\n",
       "    </tr>\n",
       "    <tr>\n",
       "      <th>19528</th>\n",
       "      <td>0</td>\n",
       "      <td>365928.378199</td>\n",
       "      <td>60</td>\n",
       "      <td>среднее</td>\n",
       "      <td>1</td>\n",
       "      <td>вдовец / вдова</td>\n",
       "      <td>2</td>\n",
       "      <td>F</td>\n",
       "      <td>пенсионер</td>\n",
       "      <td>0</td>\n",
       "      <td>74002</td>\n",
       "      <td>строительство жилой недвижимости</td>\n",
       "      <td>C</td>\n",
       "      <td>операции с недвижимостью</td>\n",
       "    </tr>\n",
       "    <tr>\n",
       "      <th>732</th>\n",
       "      <td>0</td>\n",
       "      <td>1547.382223</td>\n",
       "      <td>52</td>\n",
       "      <td>среднее</td>\n",
       "      <td>1</td>\n",
       "      <td>в разводе</td>\n",
       "      <td>3</td>\n",
       "      <td>F</td>\n",
       "      <td>компаньон</td>\n",
       "      <td>0</td>\n",
       "      <td>172357</td>\n",
       "      <td>покупка жилья для сдачи</td>\n",
       "      <td>C</td>\n",
       "      <td>операции с недвижимостью</td>\n",
       "    </tr>\n",
       "  </tbody>\n",
       "</table>\n",
       "</div>"
      ],
      "text/plain": [
       "       children  days_employed  dob_years education  education_id  \\\n",
       "10617         1    4474.451985         38   среднее             1   \n",
       "20629         0    2767.372623         53   среднее             1   \n",
       "13257         0    3877.599102         50   среднее             1   \n",
       "19528         0  365928.378199         60   среднее             1   \n",
       "732           0    1547.382223         52   среднее             1   \n",
       "\n",
       "         family_status  family_status_id gender income_type  debt  \\\n",
       "10617  женат / замужем                 0      M   сотрудник     0   \n",
       "20629  женат / замужем                 0      F   сотрудник     0   \n",
       "13257  женат / замужем                 0      F   сотрудник     0   \n",
       "19528   вдовец / вдова                 2      F   пенсионер     0   \n",
       "732          в разводе                 3      F   компаньон     0   \n",
       "\n",
       "       total_income                           purpose total_income_category  \\\n",
       "10617        199135           покупка жилья для семьи                     C   \n",
       "20629         59859     получение высшего образования                     C   \n",
       "13257        169343                             жилье                     C   \n",
       "19528         74002  строительство жилой недвижимости                     C   \n",
       "732          172357           покупка жилья для сдачи                     C   \n",
       "\n",
       "               purpose_category  \n",
       "10617  операции с недвижимостью  \n",
       "20629     получение образования  \n",
       "13257  операции с недвижимостью  \n",
       "19528  операции с недвижимостью  \n",
       "732    операции с недвижимостью  "
      ]
     },
     "execution_count": 20,
     "metadata": {},
     "output_type": "execute_result"
    }
   ],
   "source": [
    "data['purpose_category'] = data['purpose'].apply(categorize_purpose)\n",
    "data.sample(5)"
   ]
  },
  {
   "cell_type": "markdown",
   "id": "d7f71aac",
   "metadata": {},
   "source": [
    "***Вывод:*** В ходе этого этапа мы разделили заёмщиков на категории по уровню дохода."
   ]
  },
  {
   "cell_type": "markdown",
   "id": "f2645b60",
   "metadata": {},
   "source": [
    " *Вот параметры разделения:*\n",
    "- 0–30000 — 'E';\n",
    "- 30001–50000 — 'D';\n",
    "- 50001–200000 — 'C';\n",
    "- 200001–1000000 — 'B';\n",
    "- 1000001 и выше — 'A'."
   ]
  },
  {
   "cell_type": "markdown",
   "id": "f7acdd4d",
   "metadata": {},
   "source": [
    "Так же провели категоризацию по столбцу `purpose`. Разделили на `4` группы."
   ]
  },
  {
   "cell_type": "markdown",
   "id": "b1e7e608",
   "metadata": {},
   "source": [
    "- `'операции с автомобилем'`,\n",
    "- `'операции с недвижимостью'`,\n",
    "- `'проведение свадьбы'`,\n",
    "- `'получение образования'`."
   ]
  },
  {
   "cell_type": "markdown",
   "id": "3d0fc6aa",
   "metadata": {},
   "source": [
    "## Исследование данных"
   ]
  },
  {
   "cell_type": "markdown",
   "id": "289c2620",
   "metadata": {},
   "source": [
    "***Есть ли зависимость между количеством детей и возвратом кредита в срок?***"
   ]
  },
  {
   "cell_type": "markdown",
   "id": "0ff2d538",
   "metadata": {},
   "source": [
    "Для проверки текущего вопроса мы cделаем сводую таблицу и cгруппируем заёмчиков по количеству детей и сложим все имеющиеся задолженности в группах. Это те значение в столбце `debt` = `1`."
   ]
  },
  {
   "cell_type": "markdown",
   "id": "1fbf990a",
   "metadata": {},
   "source": [
    "Помимо задолженностей мы посчитаем количество людей в каждой группе `People` и найдём отношение количества случаев с просроченными платежами к общему количеству заёмчиков в группе `Mean` и сортируем полученные коэффициенты от большего к меньшему."
   ]
  },
  {
   "cell_type": "code",
   "execution_count": 21,
   "id": "7bde8ba7",
   "metadata": {
    "scrolled": true
   },
   "outputs": [
    {
     "data": {
      "text/html": [
       "<div>\n",
       "<style scoped>\n",
       "    .dataframe tbody tr th:only-of-type {\n",
       "        vertical-align: middle;\n",
       "    }\n",
       "\n",
       "    .dataframe tbody tr th {\n",
       "        vertical-align: top;\n",
       "    }\n",
       "\n",
       "    .dataframe thead th {\n",
       "        text-align: right;\n",
       "    }\n",
       "</style>\n",
       "<table border=\"1\" class=\"dataframe\">\n",
       "  <thead>\n",
       "    <tr style=\"text-align: right;\">\n",
       "      <th></th>\n",
       "      <th>People</th>\n",
       "      <th>Debt</th>\n",
       "      <th>Mean</th>\n",
       "    </tr>\n",
       "    <tr>\n",
       "      <th>children</th>\n",
       "      <th></th>\n",
       "      <th></th>\n",
       "      <th></th>\n",
       "    </tr>\n",
       "  </thead>\n",
       "  <tbody>\n",
       "    <tr>\n",
       "      <th>4</th>\n",
       "      <td>41</td>\n",
       "      <td>4</td>\n",
       "      <td>0.097561</td>\n",
       "    </tr>\n",
       "    <tr>\n",
       "      <th>2</th>\n",
       "      <td>2052</td>\n",
       "      <td>194</td>\n",
       "      <td>0.094542</td>\n",
       "    </tr>\n",
       "    <tr>\n",
       "      <th>1</th>\n",
       "      <td>4808</td>\n",
       "      <td>444</td>\n",
       "      <td>0.092346</td>\n",
       "    </tr>\n",
       "    <tr>\n",
       "      <th>3</th>\n",
       "      <td>330</td>\n",
       "      <td>27</td>\n",
       "      <td>0.081818</td>\n",
       "    </tr>\n",
       "    <tr>\n",
       "      <th>0</th>\n",
       "      <td>14091</td>\n",
       "      <td>1063</td>\n",
       "      <td>0.075438</td>\n",
       "    </tr>\n",
       "    <tr>\n",
       "      <th>5</th>\n",
       "      <td>9</td>\n",
       "      <td>0</td>\n",
       "      <td>0.000000</td>\n",
       "    </tr>\n",
       "  </tbody>\n",
       "</table>\n",
       "</div>"
      ],
      "text/plain": [
       "          People  Debt      Mean\n",
       "children                        \n",
       "4             41     4  0.097561\n",
       "2           2052   194  0.094542\n",
       "1           4808   444  0.092346\n",
       "3            330    27  0.081818\n",
       "0          14091  1063  0.075438\n",
       "5              9     0  0.000000"
      ]
     },
     "execution_count": 21,
     "metadata": {},
     "output_type": "execute_result"
    }
   ],
   "source": [
    "amount_debt = data.pivot_table(index = 'children',\n",
    "                               values = 'debt',\n",
    "                               aggfunc = ['count', 'sum', 'mean'])\n",
    "\n",
    "amount_debt.columns = ['People', 'Debt', 'Mean']\n",
    "\n",
    "amount_debt.sort_values('Mean', ascending=False)"
   ]
  },
  {
   "cell_type": "markdown",
   "id": "03731da1",
   "metadata": {},
   "source": [
    "Мы видим, что группа заёмщиков у которых `нет детей` имеют минимальное значение в полученной таблице. Это значит, что `зависимость между количеством детей и возвратом кредита в срок есть`."
   ]
  },
  {
   "cell_type": "markdown",
   "id": "1e10f05b",
   "metadata": {},
   "source": [
    "Так же можно заметить:\n",
    "- что группа, которые имеют `5` детей имеет `0` коэффициент. Это возможно связано с малым количеством данных по этой группе так как их всего `9` человек;\n",
    "- а вот люди с `4` детьми находится на первом месте. Хотя их количество в группе всего `41` человек;\n",
    "- ближайшие к ней это группа с `2 и 1` ребёнком в количестве более `2000 и 4000` человек соответственно, с минимальной разницей в значениях в лидирующий группах, что `ещё раз подтверждает наличие зависимости`, которую мы искали в исследовании."
   ]
  },
  {
   "cell_type": "markdown",
   "id": "62793c3e",
   "metadata": {},
   "source": [
    "***Есть ли зависимость между семейным положением и возвратом кредита в срок?***"
   ]
  },
  {
   "cell_type": "markdown",
   "id": "12b6faaf",
   "metadata": {},
   "source": [
    "Для текущего исследования мы сгруппируем значения из столбца `family_status`, чтобы выявить группы заёмщиков, посчитаем их количество и их задолженности. Так же найдём отношение количесво долгов и участников в каждой группе и отсортируем значения."
   ]
  },
  {
   "cell_type": "code",
   "execution_count": 22,
   "id": "7d75295a",
   "metadata": {},
   "outputs": [
    {
     "data": {
      "text/html": [
       "<div>\n",
       "<style scoped>\n",
       "    .dataframe tbody tr th:only-of-type {\n",
       "        vertical-align: middle;\n",
       "    }\n",
       "\n",
       "    .dataframe tbody tr th {\n",
       "        vertical-align: top;\n",
       "    }\n",
       "\n",
       "    .dataframe thead th {\n",
       "        text-align: right;\n",
       "    }\n",
       "</style>\n",
       "<table border=\"1\" class=\"dataframe\">\n",
       "  <thead>\n",
       "    <tr style=\"text-align: right;\">\n",
       "      <th></th>\n",
       "      <th>People</th>\n",
       "      <th>Debt</th>\n",
       "      <th>Mean</th>\n",
       "    </tr>\n",
       "    <tr>\n",
       "      <th>family_status</th>\n",
       "      <th></th>\n",
       "      <th></th>\n",
       "      <th></th>\n",
       "    </tr>\n",
       "  </thead>\n",
       "  <tbody>\n",
       "    <tr>\n",
       "      <th>Не женат / не замужем</th>\n",
       "      <td>2796</td>\n",
       "      <td>273</td>\n",
       "      <td>0.097639</td>\n",
       "    </tr>\n",
       "    <tr>\n",
       "      <th>гражданский брак</th>\n",
       "      <td>4134</td>\n",
       "      <td>385</td>\n",
       "      <td>0.093130</td>\n",
       "    </tr>\n",
       "    <tr>\n",
       "      <th>женат / замужем</th>\n",
       "      <td>12261</td>\n",
       "      <td>927</td>\n",
       "      <td>0.075606</td>\n",
       "    </tr>\n",
       "    <tr>\n",
       "      <th>в разводе</th>\n",
       "      <td>1189</td>\n",
       "      <td>84</td>\n",
       "      <td>0.070648</td>\n",
       "    </tr>\n",
       "    <tr>\n",
       "      <th>вдовец / вдова</th>\n",
       "      <td>951</td>\n",
       "      <td>63</td>\n",
       "      <td>0.066246</td>\n",
       "    </tr>\n",
       "  </tbody>\n",
       "</table>\n",
       "</div>"
      ],
      "text/plain": [
       "                       People  Debt      Mean\n",
       "family_status                                \n",
       "Не женат / не замужем    2796   273  0.097639\n",
       "гражданский брак         4134   385  0.093130\n",
       "женат / замужем         12261   927  0.075606\n",
       "в разводе                1189    84  0.070648\n",
       "вдовец / вдова            951    63  0.066246"
      ]
     },
     "execution_count": 22,
     "metadata": {},
     "output_type": "execute_result"
    }
   ],
   "source": [
    "type_status = data.pivot_table(index = 'family_status',\n",
    "                               values = 'debt',\n",
    "                               aggfunc = ['count', 'sum', 'mean'])\n",
    "\n",
    "type_status.columns = ['People', 'Debt', 'Mean']\n",
    "\n",
    "type_status.sort_values(by=('Mean'),ascending=False)"
   ]
  },
  {
   "cell_type": "markdown",
   "id": "a4a1ca9f",
   "metadata": {},
   "source": [
    "Мы можем утверждать, что `зависимость между семейным положением и возвратом кредита в срок - есть`. "
   ]
  },
  {
   "cell_type": "markdown",
   "id": "f7f9c993",
   "metadata": {},
   "source": [
    "- на первом месте с самым большим значением группа заёмщиков `Не женат / не замужем`;\n",
    "- на втором `гражданский брак`. Разница в группах очень не велика, как и суть групп. Люди без второй половинки и опыта ;совместной жизни, а так же люди, живущие в гражданском браке значительно вольнне действуют и в отношении взятых на себя обязательств в отношении банка;\n",
    "- в то же время заёмщики из групп `женат / замужем ` и `в разводе` имеют коэффициент значительно ниже, а значит и просрочки по платежам у них встречаются реже;\n",
    "- и очень выделяются на фоне всех остальных `вдовец / вдова ` с самым низким значением. Явно категория граждан, которая максимально ответственно, на фоне остальных групп,  относится к своим финансам и обязательствам."
   ]
  },
  {
   "cell_type": "markdown",
   "id": "ee555a83",
   "metadata": {},
   "source": [
    "***Есть ли зависимость между уровнем дохода и возвратом кредита в срок?***"
   ]
  },
  {
   "cell_type": "markdown",
   "id": "66d2568b",
   "metadata": {},
   "source": [
    "Для текущего исследования мы сгруппируем данные по значеним из столбца `total_income_category`, который подготовили ранее и присвоили каждому заёмщику определённое обозначение. Посчитаем размер полученных групп и их задолженности. И получим необходимые коэффициенты для анализа. Найдём отношение количесво долгов и участников в каждой группе и отсортируем значения.\n",
    "\n",
    "  *Обозначения групп:*\n",
    "- 0–30000 — `'E'`;\n",
    "- 30001–50000 — `'D'`;\n",
    "- 50001–200000 — `'C'`;\n",
    "- 200001–1000000 — `'B'`;\n",
    "- 1000001 и выше — `'A'`."
   ]
  },
  {
   "cell_type": "code",
   "execution_count": 23,
   "id": "492962d1",
   "metadata": {},
   "outputs": [
    {
     "data": {
      "text/html": [
       "<div>\n",
       "<style scoped>\n",
       "    .dataframe tbody tr th:only-of-type {\n",
       "        vertical-align: middle;\n",
       "    }\n",
       "\n",
       "    .dataframe tbody tr th {\n",
       "        vertical-align: top;\n",
       "    }\n",
       "\n",
       "    .dataframe thead th {\n",
       "        text-align: right;\n",
       "    }\n",
       "</style>\n",
       "<table border=\"1\" class=\"dataframe\">\n",
       "  <thead>\n",
       "    <tr style=\"text-align: right;\">\n",
       "      <th></th>\n",
       "      <th>People</th>\n",
       "      <th>Debt</th>\n",
       "      <th>Mean</th>\n",
       "    </tr>\n",
       "    <tr>\n",
       "      <th>total_income_category</th>\n",
       "      <th></th>\n",
       "      <th></th>\n",
       "      <th></th>\n",
       "    </tr>\n",
       "  </thead>\n",
       "  <tbody>\n",
       "    <tr>\n",
       "      <th>E</th>\n",
       "      <td>22</td>\n",
       "      <td>2</td>\n",
       "      <td>0.090909</td>\n",
       "    </tr>\n",
       "    <tr>\n",
       "      <th>C</th>\n",
       "      <td>15921</td>\n",
       "      <td>1353</td>\n",
       "      <td>0.084982</td>\n",
       "    </tr>\n",
       "    <tr>\n",
       "      <th>A</th>\n",
       "      <td>25</td>\n",
       "      <td>2</td>\n",
       "      <td>0.080000</td>\n",
       "    </tr>\n",
       "    <tr>\n",
       "      <th>B</th>\n",
       "      <td>5014</td>\n",
       "      <td>354</td>\n",
       "      <td>0.070602</td>\n",
       "    </tr>\n",
       "    <tr>\n",
       "      <th>D</th>\n",
       "      <td>349</td>\n",
       "      <td>21</td>\n",
       "      <td>0.060172</td>\n",
       "    </tr>\n",
       "  </tbody>\n",
       "</table>\n",
       "</div>"
      ],
      "text/plain": [
       "                       People  Debt      Mean\n",
       "total_income_category                        \n",
       "E                          22     2  0.090909\n",
       "C                       15921  1353  0.084982\n",
       "A                          25     2  0.080000\n",
       "B                        5014   354  0.070602\n",
       "D                         349    21  0.060172"
      ]
     },
     "execution_count": 23,
     "metadata": {},
     "output_type": "execute_result"
    }
   ],
   "source": [
    "amount_income = data.pivot_table(index = 'total_income_category',\n",
    "                                 values = 'debt',\n",
    "                                 aggfunc = ['count', 'sum', 'mean'])\n",
    "\n",
    "amount_income.columns = ['People', 'Debt', 'Mean']\n",
    "\n",
    "amount_income.sort_values('Mean',ascending=False)"
   ]
  },
  {
   "cell_type": "markdown",
   "id": "45456094",
   "metadata": {},
   "source": [
    "Мы можем наблюдать 2 группы, которые очень отличаются от остальных. Это первая в списке группа `E` - заёмщики с доходом `0–30000` рублей и последняя в списке группа `D` - заёмщики с доходом `30001–50000` рублей. В первой группе всего 22 человека. Поэтому объективно сказать, что именно эти заёмщики самые проблемные - нельзя. То же касается и второй."
   ]
  },
  {
   "cell_type": "markdown",
   "id": "a19043c2",
   "metadata": {},
   "source": [
    "Как итог, для исследования достаточно данных из 2х групп(`C, B`) так как в них отображается порядка `98%` всех заёмщиков, и можно сказать уверенно, что `чем больше ежемесяцный доход, тем более пунктуально заёмщик отнесётся к возврату кредита в установленные сроки`."
   ]
  },
  {
   "cell_type": "markdown",
   "id": "74e56efe",
   "metadata": {},
   "source": [
    "***Как разные цели кредита влияют на его возврат в срок?***"
   ]
  },
  {
   "cell_type": "markdown",
   "id": "a7d7cefa",
   "metadata": {},
   "source": [
    "Cгруппируем данные по значеним из столбца `group_purpose_category`, который подготовили так же ранее и сократили количеств категорий до `4`. Посчитаем размер полученных групп и их задолженности. Получим необходимые коэффициенты для анализа. Найдём отношение количесво долгов и участников в каждой группе и отсортируем значения."
   ]
  },
  {
   "cell_type": "code",
   "execution_count": 24,
   "id": "b5b7ee09",
   "metadata": {},
   "outputs": [
    {
     "data": {
      "text/html": [
       "<div>\n",
       "<style scoped>\n",
       "    .dataframe tbody tr th:only-of-type {\n",
       "        vertical-align: middle;\n",
       "    }\n",
       "\n",
       "    .dataframe tbody tr th {\n",
       "        vertical-align: top;\n",
       "    }\n",
       "\n",
       "    .dataframe thead th {\n",
       "        text-align: right;\n",
       "    }\n",
       "</style>\n",
       "<table border=\"1\" class=\"dataframe\">\n",
       "  <thead>\n",
       "    <tr style=\"text-align: right;\">\n",
       "      <th></th>\n",
       "      <th>People</th>\n",
       "      <th>Debt</th>\n",
       "      <th>Mean</th>\n",
       "    </tr>\n",
       "    <tr>\n",
       "      <th>purpose_category</th>\n",
       "      <th></th>\n",
       "      <th></th>\n",
       "      <th></th>\n",
       "    </tr>\n",
       "  </thead>\n",
       "  <tbody>\n",
       "    <tr>\n",
       "      <th>операции с автомобилем</th>\n",
       "      <td>4279</td>\n",
       "      <td>400</td>\n",
       "      <td>0.093480</td>\n",
       "    </tr>\n",
       "    <tr>\n",
       "      <th>получение образования</th>\n",
       "      <td>3988</td>\n",
       "      <td>369</td>\n",
       "      <td>0.092528</td>\n",
       "    </tr>\n",
       "    <tr>\n",
       "      <th>проведение свадьбы</th>\n",
       "      <td>2313</td>\n",
       "      <td>183</td>\n",
       "      <td>0.079118</td>\n",
       "    </tr>\n",
       "    <tr>\n",
       "      <th>операции с недвижимостью</th>\n",
       "      <td>10751</td>\n",
       "      <td>780</td>\n",
       "      <td>0.072551</td>\n",
       "    </tr>\n",
       "  </tbody>\n",
       "</table>\n",
       "</div>"
      ],
      "text/plain": [
       "                          People  Debt      Mean\n",
       "purpose_category                                \n",
       "операции с автомобилем      4279   400  0.093480\n",
       "получение образования       3988   369  0.092528\n",
       "проведение свадьбы          2313   183  0.079118\n",
       "операции с недвижимостью   10751   780  0.072551"
      ]
     },
     "execution_count": 24,
     "metadata": {},
     "output_type": "execute_result"
    }
   ],
   "source": [
    "group_purpose_category = data.pivot_table(index = 'purpose_category',\n",
    "                                          values = 'debt',\n",
    "                                          aggfunc = ['count', 'sum', 'mean'])\n",
    "\n",
    "group_purpose_category.columns = ['People', 'Debt', 'Mean']\n",
    "\n",
    "group_purpose_category.sort_values('Mean',ascending=False)"
   ]
  },
  {
   "cell_type": "markdown",
   "id": "a1562644",
   "metadata": {},
   "source": [
    "Первый две позиции в списке это `операции с автомобилем` и `получение образования `. Они имеют практически одинаковые коэффициенты по задолженности. И это максимальные значения, что встречаются в списке. Лучший результат показали займы для `операции с недвижимостью`. Поэтому прослеживается закономерность, что именно у таких займов самый большой шанс возврата его в срок."
   ]
  },
  {
   "cell_type": "markdown",
   "id": "f6547383",
   "metadata": {},
   "source": [
    "## Общий вывод"
   ]
  },
  {
   "cell_type": "markdown",
   "id": "f05c6b36",
   "metadata": {},
   "source": [
    "Мы провели исследование и ответили на поставленные перед нами вопросы. Мы прошли все этапы и вот к каким выводам мы пришли после каждого из них."
   ]
  },
  {
   "cell_type": "markdown",
   "id": "bc619e6d",
   "metadata": {},
   "source": [
    "***При первом знакомстве с данными мы увидели что:***\n",
    "- в таблице `21525` запись и `12` столбцов;\n",
    "- суммарно в таблице `4348 пропуск`, в частности это столбцы `days_employed` (общий стаж в днях) и `total_income` (доход);\n",
    "- так же присутсвуют `54 дубликата`;\n",
    "- по графикам видно, что в столбце `days_employed` (общий стаж в днях) есть выбросы; \n",
    "- это же и касается столбца `total_income` (доход)."
   ]
  },
  {
   "cell_type": "markdown",
   "id": "f4f21173",
   "metadata": {},
   "source": [
    "Так же мы увидели, что в датасете больше всего семейных пар и большинство людей из таблицы не имело задолженнностей по возврату кредита. В большинство - клиенты со средним образованием."
   ]
  },
  {
   "cell_type": "markdown",
   "id": "91fb1426",
   "metadata": {},
   "source": [
    "***В процессе предобработки данных мы:***\n",
    "- избавились от пропусков в столбце `total_income` (данные о доходах). Заполнили пропуски в этом столбце медианным значением по каждому типу занятости из столбца `income_type`;\n",
    "- так же в столбце `days_employed` (общий трудовой стаж в днях) избавились от пропусков и аномалий, по примеру столбца с доходом;\n",
    "-  удалили из таблицы строки с аномальным значением из столбца `children`;\n",
    "- заменили вещественный тип данных в столбце `total_income` на целочисленный с помощью метода `astype()`; \n",
    "- обработали неявные дубликаты в `education` и удалили из таблице полные дубликаты в размере `71 штуки`."
   ]
  },
  {
   "cell_type": "markdown",
   "id": "09f27c01",
   "metadata": {},
   "source": [
    "В ходе этого этапа мы разделили заёмщиков на категории по уровню дохода."
   ]
  },
  {
   "cell_type": "markdown",
   "id": "472115d4",
   "metadata": {},
   "source": [
    " *Вот параметры разделения:*\n",
    "- 0–30000 — 'E';\n",
    "- 30001–50000 — 'D';\n",
    "- 50001–200000 — 'C';\n",
    "- 200001–1000000 — 'B';\n",
    "- 1000001 и выше — 'A'."
   ]
  },
  {
   "cell_type": "markdown",
   "id": "3b9e2eb0",
   "metadata": {},
   "source": [
    "Так же провели категоризацию по столбцу `purpose`. Разделили на `4 группы`."
   ]
  },
  {
   "cell_type": "markdown",
   "id": "954f05f5",
   "metadata": {},
   "source": [
    "- `'операции с автомобилем'`,\n",
    "- `'операции с недвижимостью'`,\n",
    "- `'проведение свадьбы'`,\n",
    "- `'получение образования'`."
   ]
  },
  {
   "cell_type": "markdown",
   "id": "5d723d31",
   "metadata": {},
   "source": [
    "А уже в этапе \"Исследование данных\" мы ответили на поставленные нам вопросы."
   ]
  },
  {
   "cell_type": "markdown",
   "id": "d54af4aa",
   "metadata": {},
   "source": [
    "***Есть ли зависимость между количеством детей и возвратом кредита в срок?***"
   ]
  },
  {
   "cell_type": "markdown",
   "id": "a6fca12a",
   "metadata": {},
   "source": [
    "Отсутствие детей у заёмщика `увеличивает шанс` погашения кредитных обязательств в срок."
   ]
  },
  {
   "cell_type": "markdown",
   "id": "f65525eb",
   "metadata": {},
   "source": [
    "***Есть ли зависимость между семейным положением и возвратом кредита в срок?***"
   ]
  },
  {
   "cell_type": "markdown",
   "id": "b8865fd4",
   "metadata": {},
   "source": [
    "Более надёжныи заёмщиками является категория с семейным положением `вдовец / вдова`, а менее надёжные `Не женат / не замужем` и `гражданский брак`."
   ]
  },
  {
   "cell_type": "markdown",
   "id": "1cf7cf8c",
   "metadata": {},
   "source": [
    "***Есть ли зависимость между уровнем дохода и возвратом кредита в срок?***"
   ]
  },
  {
   "cell_type": "markdown",
   "id": "060bc1e8",
   "metadata": {},
   "source": [
    "Чем больше ежемесяцный доход, тем более пунктуально заёмщик отнесётся к возврату кредита в установленные сроки."
   ]
  },
  {
   "cell_type": "markdown",
   "id": "09c0570d",
   "metadata": {},
   "source": [
    "***Как разные цели кредита влияют на его возврат в срок?***"
   ]
  },
  {
   "cell_type": "markdown",
   "id": "a2c59273",
   "metadata": {},
   "source": [
    "Заёмщики берущие кредит на `операции с недвижимостью` являются более благонадежными при возвтрате кредита в срок. "
   ]
  }
 ],
 "metadata": {
  "ExecuteTimeLog": [
   {
    "duration": 370,
    "start_time": "2022-10-17T02:55:17.768Z"
   },
   {
    "duration": 108,
    "start_time": "2022-10-17T02:55:18.469Z"
   },
   {
    "duration": 20,
    "start_time": "2022-10-17T02:55:19.621Z"
   },
   {
    "duration": 13,
    "start_time": "2022-10-17T02:55:23.699Z"
   },
   {
    "duration": 16,
    "start_time": "2022-10-17T03:00:17.559Z"
   },
   {
    "duration": 66,
    "start_time": "2022-10-17T03:00:43.653Z"
   },
   {
    "duration": 16,
    "start_time": "2022-10-17T03:17:01.764Z"
   },
   {
    "duration": 16,
    "start_time": "2022-10-17T03:17:28.925Z"
   },
   {
    "duration": 16,
    "start_time": "2022-10-17T03:17:35.476Z"
   },
   {
    "duration": 7,
    "start_time": "2022-10-17T03:20:09.613Z"
   },
   {
    "duration": 37,
    "start_time": "2022-10-17T03:22:05.820Z"
   },
   {
    "duration": 7,
    "start_time": "2022-10-17T03:26:40.212Z"
   },
   {
    "duration": 17,
    "start_time": "2022-10-17T03:27:24.644Z"
   },
   {
    "duration": 17,
    "start_time": "2022-10-17T03:31:06.429Z"
   },
   {
    "duration": 22,
    "start_time": "2022-10-17T03:33:09.604Z"
   },
   {
    "duration": 712,
    "start_time": "2022-10-17T03:33:20.477Z"
   },
   {
    "duration": 636,
    "start_time": "2022-10-17T03:33:39.149Z"
   },
   {
    "duration": 31,
    "start_time": "2022-10-17T03:33:44.234Z"
   },
   {
    "duration": 16,
    "start_time": "2022-10-17T03:34:44.132Z"
   },
   {
    "duration": 27,
    "start_time": "2022-10-17T03:35:10.363Z"
   },
   {
    "duration": 17,
    "start_time": "2022-10-17T03:35:20.293Z"
   },
   {
    "duration": 737,
    "start_time": "2022-10-17T03:35:31.244Z"
   },
   {
    "duration": 17,
    "start_time": "2022-10-17T03:35:43.381Z"
   },
   {
    "duration": 46,
    "start_time": "2022-10-17T03:36:18.803Z"
   },
   {
    "duration": 3,
    "start_time": "2022-10-17T03:37:58.845Z"
   },
   {
    "duration": 3,
    "start_time": "2022-10-17T03:38:12.682Z"
   },
   {
    "duration": 7,
    "start_time": "2022-10-17T03:38:40.668Z"
   },
   {
    "duration": 6,
    "start_time": "2022-10-17T03:39:26.094Z"
   },
   {
    "duration": 3,
    "start_time": "2022-10-17T03:39:32.557Z"
   },
   {
    "duration": 18,
    "start_time": "2022-10-17T03:39:57.869Z"
   },
   {
    "duration": 18,
    "start_time": "2022-10-17T03:40:08.341Z"
   },
   {
    "duration": 18,
    "start_time": "2022-10-17T03:40:22.492Z"
   },
   {
    "duration": 7,
    "start_time": "2022-10-17T03:42:24.013Z"
   },
   {
    "duration": 7,
    "start_time": "2022-10-17T03:42:31.564Z"
   },
   {
    "duration": 8,
    "start_time": "2022-10-17T03:48:16.495Z"
   },
   {
    "duration": 3,
    "start_time": "2022-10-17T03:48:26.756Z"
   },
   {
    "duration": 3,
    "start_time": "2022-10-17T03:48:54.364Z"
   },
   {
    "duration": 15,
    "start_time": "2022-10-17T03:49:08.898Z"
   },
   {
    "duration": 4,
    "start_time": "2022-10-17T03:51:11.266Z"
   },
   {
    "duration": 3,
    "start_time": "2022-10-17T03:51:27.397Z"
   },
   {
    "duration": 4,
    "start_time": "2022-10-17T03:51:52.539Z"
   },
   {
    "duration": 4,
    "start_time": "2022-10-17T03:52:03.347Z"
   },
   {
    "duration": 4,
    "start_time": "2022-10-17T03:53:27.418Z"
   },
   {
    "duration": 8,
    "start_time": "2022-10-17T03:54:00.786Z"
   },
   {
    "duration": 5,
    "start_time": "2022-10-17T03:54:08.404Z"
   },
   {
    "duration": 5,
    "start_time": "2022-10-17T03:54:47.467Z"
   },
   {
    "duration": 5,
    "start_time": "2022-10-17T03:56:13.098Z"
   },
   {
    "duration": 12,
    "start_time": "2022-10-17T03:57:14.404Z"
   },
   {
    "duration": 8,
    "start_time": "2022-10-17T03:57:29.018Z"
   },
   {
    "duration": 8,
    "start_time": "2022-10-17T04:01:09.042Z"
   },
   {
    "duration": 8,
    "start_time": "2022-10-17T04:01:20.464Z"
   },
   {
    "duration": 6,
    "start_time": "2022-10-17T04:01:29.889Z"
   },
   {
    "duration": 4,
    "start_time": "2022-10-17T04:01:41.466Z"
   },
   {
    "duration": 6,
    "start_time": "2022-10-17T04:01:47.274Z"
   },
   {
    "duration": 106,
    "start_time": "2022-10-17T04:03:56.266Z"
   },
   {
    "duration": 10,
    "start_time": "2022-10-17T04:06:06.609Z"
   },
   {
    "duration": 8,
    "start_time": "2022-10-17T04:06:15.338Z"
   },
   {
    "duration": 13,
    "start_time": "2022-10-17T04:18:14.498Z"
   },
   {
    "duration": 15,
    "start_time": "2022-10-17T04:18:34.129Z"
   },
   {
    "duration": 15,
    "start_time": "2022-10-17T04:19:43.882Z"
   },
   {
    "duration": 15,
    "start_time": "2022-10-17T04:20:07.553Z"
   },
   {
    "duration": 15,
    "start_time": "2022-10-17T04:21:24.815Z"
   },
   {
    "duration": 58,
    "start_time": "2022-10-17T04:26:21.650Z"
   },
   {
    "duration": 44,
    "start_time": "2022-10-17T04:26:37.425Z"
   },
   {
    "duration": 45,
    "start_time": "2022-10-17T04:26:52.434Z"
   },
   {
    "duration": 59,
    "start_time": "2022-10-17T04:27:10.527Z"
   },
   {
    "duration": 58,
    "start_time": "2022-10-17T04:27:24.530Z"
   },
   {
    "duration": 15,
    "start_time": "2022-10-17T04:27:31.193Z"
   },
   {
    "duration": 9,
    "start_time": "2022-10-17T04:27:53.562Z"
   },
   {
    "duration": 17,
    "start_time": "2022-10-17T04:28:29.744Z"
   },
   {
    "duration": 22,
    "start_time": "2022-10-17T04:28:41.396Z"
   },
   {
    "duration": 19,
    "start_time": "2022-10-17T04:28:54.148Z"
   },
   {
    "duration": 15,
    "start_time": "2022-10-17T04:31:59.956Z"
   },
   {
    "duration": 22,
    "start_time": "2022-10-17T04:32:37.273Z"
   },
   {
    "duration": 20,
    "start_time": "2022-10-17T04:34:06.781Z"
   },
   {
    "duration": 21,
    "start_time": "2022-10-17T04:34:14.685Z"
   },
   {
    "duration": 22,
    "start_time": "2022-10-17T04:34:24.716Z"
   },
   {
    "duration": 13,
    "start_time": "2022-10-17T04:35:09.943Z"
   },
   {
    "duration": 58,
    "start_time": "2022-10-17T04:39:26.040Z"
   },
   {
    "duration": 11,
    "start_time": "2022-10-17T04:39:30.122Z"
   },
   {
    "duration": 20,
    "start_time": "2022-10-17T04:39:41.481Z"
   },
   {
    "duration": 21,
    "start_time": "2022-10-17T04:40:11.101Z"
   },
   {
    "duration": 22,
    "start_time": "2022-10-17T04:40:50.098Z"
   },
   {
    "duration": 14,
    "start_time": "2022-10-17T04:41:28.260Z"
   },
   {
    "duration": 55,
    "start_time": "2022-10-17T04:48:24.368Z"
   },
   {
    "duration": 12,
    "start_time": "2022-10-17T04:48:29.861Z"
   },
   {
    "duration": 6,
    "start_time": "2022-10-17T04:48:47.103Z"
   },
   {
    "duration": 8,
    "start_time": "2022-10-17T04:48:54.325Z"
   },
   {
    "duration": 6,
    "start_time": "2022-10-17T04:49:30.125Z"
   },
   {
    "duration": 7,
    "start_time": "2022-10-17T04:49:42.358Z"
   },
   {
    "duration": 13,
    "start_time": "2022-10-17T04:49:54.193Z"
   },
   {
    "duration": 12,
    "start_time": "2022-10-17T04:49:59.583Z"
   },
   {
    "duration": 11,
    "start_time": "2022-10-17T04:50:08.128Z"
   },
   {
    "duration": 9,
    "start_time": "2022-10-17T04:50:21.710Z"
   },
   {
    "duration": 7,
    "start_time": "2022-10-17T04:50:43.037Z"
   },
   {
    "duration": 8,
    "start_time": "2022-10-17T04:54:54.445Z"
   },
   {
    "duration": 11,
    "start_time": "2022-10-17T04:55:01.574Z"
   },
   {
    "duration": 10,
    "start_time": "2022-10-17T04:55:29.167Z"
   },
   {
    "duration": 5,
    "start_time": "2022-10-17T04:58:01.750Z"
   },
   {
    "duration": 53,
    "start_time": "2022-10-17T05:01:03.013Z"
   },
   {
    "duration": 25,
    "start_time": "2022-10-17T05:03:46.332Z"
   },
   {
    "duration": 29,
    "start_time": "2022-10-17T05:04:01.605Z"
   },
   {
    "duration": 34,
    "start_time": "2022-10-17T05:08:32.321Z"
   },
   {
    "duration": 16,
    "start_time": "2022-10-17T05:08:57.207Z"
   },
   {
    "duration": 25,
    "start_time": "2022-10-17T05:09:21.117Z"
   },
   {
    "duration": 49,
    "start_time": "2022-10-17T05:11:25.313Z"
   },
   {
    "duration": 46,
    "start_time": "2022-10-17T05:11:34.107Z"
   },
   {
    "duration": 671,
    "start_time": "2022-10-17T05:13:13.009Z"
   },
   {
    "duration": 564,
    "start_time": "2022-10-17T05:14:01.757Z"
   },
   {
    "duration": 523,
    "start_time": "2022-10-17T05:15:22.710Z"
   },
   {
    "duration": 498,
    "start_time": "2022-10-17T05:18:29.572Z"
   },
   {
    "duration": 492,
    "start_time": "2022-10-17T05:18:42.253Z"
   },
   {
    "duration": 496,
    "start_time": "2022-10-17T05:18:56.981Z"
   },
   {
    "duration": 479,
    "start_time": "2022-10-17T05:19:05.808Z"
   },
   {
    "duration": 647,
    "start_time": "2022-10-17T05:19:19.958Z"
   },
   {
    "duration": 848,
    "start_time": "2022-10-17T05:20:06.108Z"
   },
   {
    "duration": 635,
    "start_time": "2022-10-17T05:20:18.220Z"
   },
   {
    "duration": 544,
    "start_time": "2022-10-17T05:20:37.940Z"
   },
   {
    "duration": 561,
    "start_time": "2022-10-17T05:20:54.219Z"
   },
   {
    "duration": 45,
    "start_time": "2022-10-17T05:21:09.800Z"
   },
   {
    "duration": 736,
    "start_time": "2022-10-17T05:21:22.910Z"
   },
   {
    "duration": 3,
    "start_time": "2022-10-17T05:21:39.043Z"
   },
   {
    "duration": 64,
    "start_time": "2022-10-17T05:21:39.579Z"
   },
   {
    "duration": 5,
    "start_time": "2022-10-17T05:21:45.580Z"
   },
   {
    "duration": 44,
    "start_time": "2022-10-17T05:22:27.635Z"
   },
   {
    "duration": 61,
    "start_time": "2022-10-17T05:23:22.350Z"
   },
   {
    "duration": 42,
    "start_time": "2022-10-17T05:26:50.637Z"
   },
   {
    "duration": 49,
    "start_time": "2022-10-17T05:27:01.315Z"
   },
   {
    "duration": 2,
    "start_time": "2022-10-17T05:30:08.942Z"
   },
   {
    "duration": 85,
    "start_time": "2022-10-17T05:30:09.477Z"
   },
   {
    "duration": 38,
    "start_time": "2022-10-17T05:30:15.230Z"
   },
   {
    "duration": 102,
    "start_time": "2022-10-17T05:33:59.429Z"
   },
   {
    "duration": 2,
    "start_time": "2022-10-17T05:34:06.955Z"
   },
   {
    "duration": 69,
    "start_time": "2022-10-17T05:34:07.348Z"
   },
   {
    "duration": 75,
    "start_time": "2022-10-17T05:34:11.046Z"
   },
   {
    "duration": 2,
    "start_time": "2022-10-17T05:38:17.180Z"
   },
   {
    "duration": 64,
    "start_time": "2022-10-17T05:38:17.451Z"
   },
   {
    "duration": 46,
    "start_time": "2022-10-17T05:39:06.309Z"
   },
   {
    "duration": 4,
    "start_time": "2022-10-17T06:23:45.804Z"
   },
   {
    "duration": 5,
    "start_time": "2022-10-17T06:24:05.208Z"
   },
   {
    "duration": 78,
    "start_time": "2022-10-17T06:24:41.613Z"
   },
   {
    "duration": 73,
    "start_time": "2022-10-17T06:25:02.212Z"
   },
   {
    "duration": 97,
    "start_time": "2022-10-17T06:25:48.347Z"
   },
   {
    "duration": 3,
    "start_time": "2022-10-17T06:26:06.796Z"
   },
   {
    "duration": 66,
    "start_time": "2022-10-17T06:26:07.319Z"
   },
   {
    "duration": 99,
    "start_time": "2022-10-17T06:26:30.841Z"
   },
   {
    "duration": 2,
    "start_time": "2022-10-17T06:26:36.900Z"
   },
   {
    "duration": 68,
    "start_time": "2022-10-17T06:26:37.287Z"
   },
   {
    "duration": 45,
    "start_time": "2022-10-17T06:27:30.562Z"
   },
   {
    "duration": 40,
    "start_time": "2022-10-17T06:27:58.001Z"
   },
   {
    "duration": 77,
    "start_time": "2022-10-17T06:30:07.608Z"
   },
   {
    "duration": 39,
    "start_time": "2022-10-17T06:30:13.401Z"
   },
   {
    "duration": 44,
    "start_time": "2022-10-17T06:30:32.881Z"
   },
   {
    "duration": 49,
    "start_time": "2022-10-17T06:31:14.847Z"
   },
   {
    "duration": 44,
    "start_time": "2022-10-17T06:31:41.865Z"
   },
   {
    "duration": 39,
    "start_time": "2022-10-17T06:31:56.547Z"
   },
   {
    "duration": 46,
    "start_time": "2022-10-17T06:32:07.256Z"
   },
   {
    "duration": 43,
    "start_time": "2022-10-17T06:32:16.089Z"
   },
   {
    "duration": 34,
    "start_time": "2022-10-17T06:32:23.025Z"
   },
   {
    "duration": 37,
    "start_time": "2022-10-17T06:32:31.006Z"
   },
   {
    "duration": 38,
    "start_time": "2022-10-17T06:33:00.759Z"
   },
   {
    "duration": 42,
    "start_time": "2022-10-17T06:33:21.064Z"
   },
   {
    "duration": 44,
    "start_time": "2022-10-17T06:34:11.048Z"
   },
   {
    "duration": 35,
    "start_time": "2022-10-17T06:34:39.098Z"
   },
   {
    "duration": 35,
    "start_time": "2022-10-17T06:34:48.952Z"
   },
   {
    "duration": 8,
    "start_time": "2022-10-17T06:36:14.009Z"
   },
   {
    "duration": 8,
    "start_time": "2022-10-17T06:44:35.520Z"
   },
   {
    "duration": 7,
    "start_time": "2022-10-17T06:45:19.470Z"
   },
   {
    "duration": 9,
    "start_time": "2022-10-17T06:46:12.063Z"
   },
   {
    "duration": 46,
    "start_time": "2022-10-17T06:46:29.831Z"
   },
   {
    "duration": 7,
    "start_time": "2022-10-17T06:46:36.566Z"
   },
   {
    "duration": 8,
    "start_time": "2022-10-17T06:47:32.198Z"
   },
   {
    "duration": 7,
    "start_time": "2022-10-17T06:47:42.334Z"
   },
   {
    "duration": 10,
    "start_time": "2022-10-17T06:51:46.500Z"
   },
   {
    "duration": 7,
    "start_time": "2022-10-17T06:51:55.581Z"
   },
   {
    "duration": 5,
    "start_time": "2022-10-17T06:52:12.741Z"
   },
   {
    "duration": 19,
    "start_time": "2022-10-17T06:52:27.335Z"
   },
   {
    "duration": 18,
    "start_time": "2022-10-17T06:52:35.119Z"
   },
   {
    "duration": 405,
    "start_time": "2022-10-18T03:07:51.381Z"
   },
   {
    "duration": 60,
    "start_time": "2022-10-18T03:07:52.643Z"
   },
   {
    "duration": 11,
    "start_time": "2022-10-18T03:07:54.430Z"
   },
   {
    "duration": 14,
    "start_time": "2022-10-18T03:07:55.684Z"
   },
   {
    "duration": 8,
    "start_time": "2022-10-18T03:07:57.850Z"
   },
   {
    "duration": 51,
    "start_time": "2022-10-18T03:08:00.846Z"
   },
   {
    "duration": 5,
    "start_time": "2022-10-18T03:09:18.902Z"
   },
   {
    "duration": 8,
    "start_time": "2022-10-18T03:11:36.308Z"
   },
   {
    "duration": 19,
    "start_time": "2022-10-18T03:11:56.620Z"
   },
   {
    "duration": 7,
    "start_time": "2022-10-18T03:12:01.221Z"
   },
   {
    "duration": 46,
    "start_time": "2022-10-18T03:12:08.397Z"
   },
   {
    "duration": 19,
    "start_time": "2022-10-18T03:12:10.284Z"
   },
   {
    "duration": 8,
    "start_time": "2022-10-18T03:12:11.892Z"
   },
   {
    "duration": 3,
    "start_time": "2022-10-18T03:15:55.556Z"
   },
   {
    "duration": 10,
    "start_time": "2022-10-18T03:16:00.436Z"
   },
   {
    "duration": 8,
    "start_time": "2022-10-18T03:16:05.251Z"
   },
   {
    "duration": 8,
    "start_time": "2022-10-18T03:16:30.603Z"
   },
   {
    "duration": 49,
    "start_time": "2022-10-18T03:18:48.444Z"
   },
   {
    "duration": 201,
    "start_time": "2022-10-18T03:19:14.900Z"
   },
   {
    "duration": 196,
    "start_time": "2022-10-18T03:19:23.748Z"
   },
   {
    "duration": 2,
    "start_time": "2022-10-18T03:20:07.092Z"
   },
   {
    "duration": 54,
    "start_time": "2022-10-18T03:20:07.492Z"
   },
   {
    "duration": 8,
    "start_time": "2022-10-18T03:20:08.336Z"
   },
   {
    "duration": 13,
    "start_time": "2022-10-18T03:20:08.795Z"
   },
   {
    "duration": 8,
    "start_time": "2022-10-18T03:20:09.491Z"
   },
   {
    "duration": 46,
    "start_time": "2022-10-18T03:20:09.828Z"
   },
   {
    "duration": 18,
    "start_time": "2022-10-18T03:20:10.692Z"
   },
   {
    "duration": 61,
    "start_time": "2022-10-18T03:20:11.317Z"
   },
   {
    "duration": 2,
    "start_time": "2022-10-18T03:20:12.379Z"
   },
   {
    "duration": 366,
    "start_time": "2022-10-18T03:20:53.643Z"
   },
   {
    "duration": 57,
    "start_time": "2022-10-18T03:20:54.011Z"
   },
   {
    "duration": 9,
    "start_time": "2022-10-18T03:20:54.070Z"
   },
   {
    "duration": 17,
    "start_time": "2022-10-18T03:20:54.081Z"
   },
   {
    "duration": 12,
    "start_time": "2022-10-18T03:20:54.100Z"
   },
   {
    "duration": 51,
    "start_time": "2022-10-18T03:20:54.113Z"
   },
   {
    "duration": 19,
    "start_time": "2022-10-18T03:20:54.166Z"
   },
   {
    "duration": 32,
    "start_time": "2022-10-18T03:20:54.209Z"
   },
   {
    "duration": 3,
    "start_time": "2022-10-18T03:20:54.242Z"
   },
   {
    "duration": 2,
    "start_time": "2022-10-18T03:20:54.248Z"
   },
   {
    "duration": 6,
    "start_time": "2022-10-18T03:20:54.252Z"
   },
   {
    "duration": 5,
    "start_time": "2022-10-18T03:20:54.259Z"
   },
   {
    "duration": 4,
    "start_time": "2022-10-18T03:20:54.266Z"
   },
   {
    "duration": 5,
    "start_time": "2022-10-18T03:20:54.272Z"
   },
   {
    "duration": 6,
    "start_time": "2022-10-18T03:20:54.278Z"
   },
   {
    "duration": 7,
    "start_time": "2022-10-18T03:20:54.286Z"
   },
   {
    "duration": 5,
    "start_time": "2022-10-18T03:20:54.309Z"
   },
   {
    "duration": 8,
    "start_time": "2022-10-18T03:20:54.315Z"
   },
   {
    "duration": 7,
    "start_time": "2022-10-18T03:20:54.324Z"
   },
   {
    "duration": 8,
    "start_time": "2022-10-18T03:20:54.332Z"
   },
   {
    "duration": 7,
    "start_time": "2022-10-18T03:20:54.341Z"
   },
   {
    "duration": 32,
    "start_time": "2022-10-18T03:23:49.656Z"
   },
   {
    "duration": 3,
    "start_time": "2022-10-18T03:23:54.670Z"
   },
   {
    "duration": 54,
    "start_time": "2022-10-18T03:23:55.079Z"
   },
   {
    "duration": 7,
    "start_time": "2022-10-18T03:23:56.103Z"
   },
   {
    "duration": 13,
    "start_time": "2022-10-18T03:24:02.191Z"
   },
   {
    "duration": 8,
    "start_time": "2022-10-18T03:24:10.423Z"
   },
   {
    "duration": 33,
    "start_time": "2022-10-18T03:24:15.344Z"
   },
   {
    "duration": 9,
    "start_time": "2022-10-18T03:24:19.974Z"
   },
   {
    "duration": 30,
    "start_time": "2022-10-18T03:25:17.497Z"
   },
   {
    "duration": 19,
    "start_time": "2022-10-18T03:25:19.734Z"
   },
   {
    "duration": 31,
    "start_time": "2022-10-18T03:25:22.993Z"
   },
   {
    "duration": 63,
    "start_time": "2022-10-18T03:30:32.688Z"
   },
   {
    "duration": 42,
    "start_time": "2022-10-18T03:30:41.745Z"
   },
   {
    "duration": 13,
    "start_time": "2022-10-18T03:30:56.840Z"
   },
   {
    "duration": 32,
    "start_time": "2022-10-18T03:31:23.927Z"
   },
   {
    "duration": 22,
    "start_time": "2022-10-18T03:31:41.552Z"
   },
   {
    "duration": 31,
    "start_time": "2022-10-18T03:34:40.735Z"
   },
   {
    "duration": 363,
    "start_time": "2022-10-18T04:16:16.252Z"
   },
   {
    "duration": 57,
    "start_time": "2022-10-18T04:16:16.617Z"
   },
   {
    "duration": 11,
    "start_time": "2022-10-18T04:16:16.675Z"
   },
   {
    "duration": 29,
    "start_time": "2022-10-18T04:16:16.687Z"
   },
   {
    "duration": 8,
    "start_time": "2022-10-18T04:16:16.718Z"
   },
   {
    "duration": 57,
    "start_time": "2022-10-18T04:16:16.727Z"
   },
   {
    "duration": 20,
    "start_time": "2022-10-18T04:16:16.786Z"
   },
   {
    "duration": 12,
    "start_time": "2022-10-18T04:16:16.807Z"
   },
   {
    "duration": 25,
    "start_time": "2022-10-18T04:16:16.821Z"
   },
   {
    "duration": 6,
    "start_time": "2022-10-18T04:16:16.848Z"
   },
   {
    "duration": 4,
    "start_time": "2022-10-18T04:16:16.855Z"
   },
   {
    "duration": 4,
    "start_time": "2022-10-18T04:16:16.860Z"
   },
   {
    "duration": 5,
    "start_time": "2022-10-18T04:16:16.866Z"
   },
   {
    "duration": 3,
    "start_time": "2022-10-18T04:16:16.873Z"
   },
   {
    "duration": 5,
    "start_time": "2022-10-18T04:16:16.878Z"
   },
   {
    "duration": 6,
    "start_time": "2022-10-18T04:16:16.884Z"
   },
   {
    "duration": 4,
    "start_time": "2022-10-18T04:16:16.891Z"
   },
   {
    "duration": 4,
    "start_time": "2022-10-18T04:16:16.896Z"
   },
   {
    "duration": 6,
    "start_time": "2022-10-18T04:16:16.901Z"
   },
   {
    "duration": 4,
    "start_time": "2022-10-18T04:16:16.908Z"
   },
   {
    "duration": 6,
    "start_time": "2022-10-18T04:16:16.913Z"
   },
   {
    "duration": 6,
    "start_time": "2022-10-18T04:16:27.344Z"
   },
   {
    "duration": 66,
    "start_time": "2022-10-18T04:16:51.577Z"
   },
   {
    "duration": 7,
    "start_time": "2022-10-18T04:17:04.344Z"
   },
   {
    "duration": 4,
    "start_time": "2022-10-20T03:32:08.312Z"
   },
   {
    "duration": 8,
    "start_time": "2022-10-20T03:37:31.520Z"
   },
   {
    "duration": 20,
    "start_time": "2022-10-20T03:37:52.864Z"
   },
   {
    "duration": 350,
    "start_time": "2022-10-20T03:38:42.855Z"
   },
   {
    "duration": 59,
    "start_time": "2022-10-20T03:38:43.207Z"
   },
   {
    "duration": 9,
    "start_time": "2022-10-20T03:38:43.267Z"
   },
   {
    "duration": 13,
    "start_time": "2022-10-20T03:38:43.278Z"
   },
   {
    "duration": 19,
    "start_time": "2022-10-20T03:38:43.292Z"
   },
   {
    "duration": 35,
    "start_time": "2022-10-20T03:38:43.312Z"
   },
   {
    "duration": 18,
    "start_time": "2022-10-20T03:38:43.348Z"
   },
   {
    "duration": 9,
    "start_time": "2022-10-20T03:38:43.367Z"
   },
   {
    "duration": 4,
    "start_time": "2022-10-20T03:38:43.377Z"
   },
   {
    "duration": 18,
    "start_time": "2022-10-20T03:38:43.408Z"
   },
   {
    "duration": 4,
    "start_time": "2022-10-20T03:38:43.428Z"
   },
   {
    "duration": 5,
    "start_time": "2022-10-20T03:38:43.433Z"
   },
   {
    "duration": 5,
    "start_time": "2022-10-20T03:38:43.440Z"
   },
   {
    "duration": 4,
    "start_time": "2022-10-20T03:38:43.446Z"
   },
   {
    "duration": 6,
    "start_time": "2022-10-20T03:38:43.451Z"
   },
   {
    "duration": 4,
    "start_time": "2022-10-20T03:38:43.458Z"
   },
   {
    "duration": 4,
    "start_time": "2022-10-20T03:38:43.463Z"
   },
   {
    "duration": 5,
    "start_time": "2022-10-20T03:38:43.468Z"
   },
   {
    "duration": 4,
    "start_time": "2022-10-20T03:38:43.474Z"
   },
   {
    "duration": 30,
    "start_time": "2022-10-20T03:38:43.479Z"
   },
   {
    "duration": 2,
    "start_time": "2022-10-20T03:38:43.511Z"
   },
   {
    "duration": 21,
    "start_time": "2022-10-20T03:41:21.120Z"
   },
   {
    "duration": 3,
    "start_time": "2022-10-20T03:41:54.175Z"
   },
   {
    "duration": 13,
    "start_time": "2022-10-20T03:42:00.193Z"
   },
   {
    "duration": 47,
    "start_time": "2022-10-20T03:42:11.088Z"
   },
   {
    "duration": 67,
    "start_time": "2022-10-20T03:42:25.280Z"
   },
   {
    "duration": 10,
    "start_time": "2022-10-20T03:42:45.319Z"
   },
   {
    "duration": 8,
    "start_time": "2022-10-20T03:43:00.320Z"
   },
   {
    "duration": 8,
    "start_time": "2022-10-20T03:43:53.888Z"
   },
   {
    "duration": 3,
    "start_time": "2022-10-20T03:44:12.992Z"
   },
   {
    "duration": 29,
    "start_time": "2022-10-20T03:46:17.806Z"
   },
   {
    "duration": 387,
    "start_time": "2022-10-20T03:47:09.912Z"
   },
   {
    "duration": 58,
    "start_time": "2022-10-20T03:47:10.301Z"
   },
   {
    "duration": 8,
    "start_time": "2022-10-20T03:47:10.361Z"
   },
   {
    "duration": 30,
    "start_time": "2022-10-20T03:47:10.371Z"
   },
   {
    "duration": 15,
    "start_time": "2022-10-20T03:47:10.403Z"
   },
   {
    "duration": 59,
    "start_time": "2022-10-20T03:47:10.420Z"
   },
   {
    "duration": 18,
    "start_time": "2022-10-20T03:47:10.480Z"
   },
   {
    "duration": 24,
    "start_time": "2022-10-20T03:47:10.499Z"
   },
   {
    "duration": 26,
    "start_time": "2022-10-20T03:47:10.524Z"
   },
   {
    "duration": 26,
    "start_time": "2022-10-20T03:47:10.552Z"
   },
   {
    "duration": 10,
    "start_time": "2022-10-20T03:47:10.579Z"
   },
   {
    "duration": 21,
    "start_time": "2022-10-20T03:47:10.590Z"
   },
   {
    "duration": 32,
    "start_time": "2022-10-20T03:47:10.612Z"
   },
   {
    "duration": 23,
    "start_time": "2022-10-20T03:47:10.645Z"
   },
   {
    "duration": 37,
    "start_time": "2022-10-20T03:47:10.670Z"
   },
   {
    "duration": 21,
    "start_time": "2022-10-20T03:47:10.708Z"
   },
   {
    "duration": 15,
    "start_time": "2022-10-20T03:47:10.730Z"
   },
   {
    "duration": 39,
    "start_time": "2022-10-20T03:47:10.746Z"
   },
   {
    "duration": 15,
    "start_time": "2022-10-20T03:47:10.786Z"
   },
   {
    "duration": 26,
    "start_time": "2022-10-20T03:47:10.803Z"
   },
   {
    "duration": 16,
    "start_time": "2022-10-20T03:47:10.830Z"
   },
   {
    "duration": 16,
    "start_time": "2022-10-20T03:47:17.975Z"
   },
   {
    "duration": 33,
    "start_time": "2022-10-20T03:56:22.113Z"
   },
   {
    "duration": 31,
    "start_time": "2022-10-20T03:56:50.304Z"
   },
   {
    "duration": 20,
    "start_time": "2022-10-20T04:20:12.539Z"
   },
   {
    "duration": 359,
    "start_time": "2022-10-20T04:20:20.745Z"
   },
   {
    "duration": 58,
    "start_time": "2022-10-20T04:20:21.106Z"
   },
   {
    "duration": 10,
    "start_time": "2022-10-20T04:20:21.166Z"
   },
   {
    "duration": 13,
    "start_time": "2022-10-20T04:20:21.178Z"
   },
   {
    "duration": 17,
    "start_time": "2022-10-20T04:20:21.192Z"
   },
   {
    "duration": 36,
    "start_time": "2022-10-20T04:20:21.210Z"
   },
   {
    "duration": 19,
    "start_time": "2022-10-20T04:20:21.247Z"
   },
   {
    "duration": 8,
    "start_time": "2022-10-20T04:20:21.268Z"
   },
   {
    "duration": 7,
    "start_time": "2022-10-20T04:20:21.277Z"
   },
   {
    "duration": 6,
    "start_time": "2022-10-20T04:20:21.310Z"
   },
   {
    "duration": 7,
    "start_time": "2022-10-20T04:20:21.318Z"
   },
   {
    "duration": 26,
    "start_time": "2022-10-20T04:20:21.326Z"
   },
   {
    "duration": 2,
    "start_time": "2022-10-20T04:20:21.354Z"
   },
   {
    "duration": 7,
    "start_time": "2022-10-20T04:20:21.357Z"
   },
   {
    "duration": 6,
    "start_time": "2022-10-20T04:20:21.365Z"
   },
   {
    "duration": 4,
    "start_time": "2022-10-20T04:20:21.372Z"
   },
   {
    "duration": 5,
    "start_time": "2022-10-20T04:20:21.377Z"
   },
   {
    "duration": 4,
    "start_time": "2022-10-20T04:20:21.383Z"
   },
   {
    "duration": 3,
    "start_time": "2022-10-20T04:20:21.389Z"
   },
   {
    "duration": 3,
    "start_time": "2022-10-20T04:20:21.408Z"
   },
   {
    "duration": 4,
    "start_time": "2022-10-20T04:20:21.412Z"
   },
   {
    "duration": 9,
    "start_time": "2022-10-20T04:20:54.567Z"
   },
   {
    "duration": 355,
    "start_time": "2022-10-20T06:06:59.579Z"
   },
   {
    "duration": 63,
    "start_time": "2022-10-20T06:06:59.936Z"
   },
   {
    "duration": 13,
    "start_time": "2022-10-20T06:07:00.000Z"
   },
   {
    "duration": 40,
    "start_time": "2022-10-20T06:07:00.016Z"
   },
   {
    "duration": 13,
    "start_time": "2022-10-20T06:07:00.059Z"
   },
   {
    "duration": 76,
    "start_time": "2022-10-20T06:07:00.074Z"
   },
   {
    "duration": 30,
    "start_time": "2022-10-20T06:07:00.152Z"
   },
   {
    "duration": 26,
    "start_time": "2022-10-20T06:07:00.184Z"
   },
   {
    "duration": 6,
    "start_time": "2022-10-20T06:07:00.212Z"
   },
   {
    "duration": 18,
    "start_time": "2022-10-20T06:07:00.221Z"
   },
   {
    "duration": 14,
    "start_time": "2022-10-20T06:07:00.240Z"
   },
   {
    "duration": 49,
    "start_time": "2022-10-20T06:07:00.256Z"
   },
   {
    "duration": 17,
    "start_time": "2022-10-20T06:07:00.307Z"
   },
   {
    "duration": 23,
    "start_time": "2022-10-20T06:07:00.326Z"
   },
   {
    "duration": 38,
    "start_time": "2022-10-20T06:07:00.351Z"
   },
   {
    "duration": 32,
    "start_time": "2022-10-20T06:07:00.391Z"
   },
   {
    "duration": 34,
    "start_time": "2022-10-20T06:07:00.426Z"
   },
   {
    "duration": 31,
    "start_time": "2022-10-20T06:07:00.462Z"
   },
   {
    "duration": 34,
    "start_time": "2022-10-20T06:07:00.494Z"
   },
   {
    "duration": 27,
    "start_time": "2022-10-20T06:07:00.530Z"
   },
   {
    "duration": 16,
    "start_time": "2022-10-20T06:07:00.560Z"
   },
   {
    "duration": 14,
    "start_time": "2022-10-20T06:11:40.994Z"
   },
   {
    "duration": 67,
    "start_time": "2022-10-20T06:13:57.635Z"
   },
   {
    "duration": 10,
    "start_time": "2022-10-20T06:14:27.802Z"
   },
   {
    "duration": 23,
    "start_time": "2022-10-20T06:14:54.305Z"
   },
   {
    "duration": 23,
    "start_time": "2022-10-20T06:15:01.929Z"
   },
   {
    "duration": 23,
    "start_time": "2022-10-20T06:15:16.202Z"
   },
   {
    "duration": 21,
    "start_time": "2022-10-20T06:16:25.259Z"
   },
   {
    "duration": 16,
    "start_time": "2022-10-20T06:16:39.562Z"
   },
   {
    "duration": 19,
    "start_time": "2022-10-20T06:16:48.274Z"
   },
   {
    "duration": 32,
    "start_time": "2022-10-20T06:18:25.355Z"
   },
   {
    "duration": 51,
    "start_time": "2022-10-20T06:18:34.241Z"
   },
   {
    "duration": 676,
    "start_time": "2022-10-22T11:56:27.458Z"
   },
   {
    "duration": 706,
    "start_time": "2022-10-22T11:57:24.695Z"
   },
   {
    "duration": 6,
    "start_time": "2022-10-22T11:57:55.731Z"
   },
   {
    "duration": 7,
    "start_time": "2022-10-22T11:58:22.399Z"
   },
   {
    "duration": 8,
    "start_time": "2022-10-22T12:01:30.130Z"
   },
   {
    "duration": 11,
    "start_time": "2022-10-22T12:02:06.808Z"
   },
   {
    "duration": 4,
    "start_time": "2022-10-22T12:02:23.431Z"
   },
   {
    "duration": 8,
    "start_time": "2022-10-22T12:02:24.847Z"
   },
   {
    "duration": 12,
    "start_time": "2022-10-22T12:02:42.583Z"
   },
   {
    "duration": 7,
    "start_time": "2022-10-22T12:02:51.752Z"
   },
   {
    "duration": 695,
    "start_time": "2022-10-22T12:02:58.754Z"
   },
   {
    "duration": 7,
    "start_time": "2022-10-22T12:08:40.848Z"
   },
   {
    "duration": 8,
    "start_time": "2022-10-22T12:09:00.847Z"
   },
   {
    "duration": 5,
    "start_time": "2022-10-22T12:09:04.103Z"
   },
   {
    "duration": 12,
    "start_time": "2022-10-22T12:09:04.775Z"
   },
   {
    "duration": 8,
    "start_time": "2022-10-22T12:10:07.871Z"
   },
   {
    "duration": 3,
    "start_time": "2022-10-22T12:10:11.625Z"
   },
   {
    "duration": 8,
    "start_time": "2022-10-22T12:10:13.247Z"
   },
   {
    "duration": 4,
    "start_time": "2022-10-22T12:10:18.070Z"
   },
   {
    "duration": 206,
    "start_time": "2022-10-22T12:10:18.791Z"
   },
   {
    "duration": 10,
    "start_time": "2022-10-22T12:10:51.761Z"
   },
   {
    "duration": 23,
    "start_time": "2022-10-22T12:11:00.504Z"
   },
   {
    "duration": 10,
    "start_time": "2022-10-22T12:11:12.048Z"
   },
   {
    "duration": 17,
    "start_time": "2022-10-22T12:11:34.737Z"
   },
   {
    "duration": 9,
    "start_time": "2022-10-22T12:16:13.775Z"
   },
   {
    "duration": 20,
    "start_time": "2022-10-22T12:16:55.566Z"
   },
   {
    "duration": 6,
    "start_time": "2022-10-22T12:19:02.574Z"
   },
   {
    "duration": 46,
    "start_time": "2022-10-22T12:31:12.644Z"
   },
   {
    "duration": 43,
    "start_time": "2022-10-22T12:32:15.340Z"
   },
   {
    "duration": 5,
    "start_time": "2022-10-22T12:32:41.611Z"
   },
   {
    "duration": 8,
    "start_time": "2022-10-22T12:32:45.036Z"
   },
   {
    "duration": 8,
    "start_time": "2022-10-22T12:32:47.588Z"
   },
   {
    "duration": 19,
    "start_time": "2022-10-22T12:32:55.083Z"
   }
  ],
  "colab": {
   "name": "dpp_template_part1.ipynb",
   "provenance": []
  },
  "kernelspec": {
   "display_name": "Python 3 (ipykernel)",
   "language": "python",
   "name": "python3"
  },
  "language_info": {
   "codemirror_mode": {
    "name": "ipython",
    "version": 3
   },
   "file_extension": ".py",
   "mimetype": "text/x-python",
   "name": "python",
   "nbconvert_exporter": "python",
   "pygments_lexer": "ipython3",
   "version": "3.9.7"
  },
  "toc": {
   "base_numbering": 1,
   "nav_menu": {},
   "number_sections": true,
   "sideBar": true,
   "skip_h1_title": true,
   "title_cell": "Table of Contents",
   "title_sidebar": "Contents",
   "toc_cell": false,
   "toc_position": {
    "height": "calc(100% - 180px)",
    "left": "10px",
    "top": "150px",
    "width": "384px"
   },
   "toc_section_display": true,
   "toc_window_display": true
  },
  "varInspector": {
   "cols": {
    "lenName": 16,
    "lenType": 16,
    "lenVar": 40
   },
   "kernels_config": {
    "python": {
     "delete_cmd_postfix": "",
     "delete_cmd_prefix": "del ",
     "library": "var_list.py",
     "varRefreshCmd": "print(var_dic_list())"
    },
    "r": {
     "delete_cmd_postfix": ") ",
     "delete_cmd_prefix": "rm(",
     "library": "var_list.r",
     "varRefreshCmd": "cat(var_dic_list()) "
    }
   },
   "types_to_exclude": [
    "module",
    "function",
    "builtin_function_or_method",
    "instance",
    "_Feature"
   ],
   "window_display": false
  }
 },
 "nbformat": 4,
 "nbformat_minor": 5
}
